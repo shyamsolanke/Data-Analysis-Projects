{
 "cells": [
  {
   "cell_type": "code",
   "execution_count": 1,
   "metadata": {},
   "outputs": [
    {
     "name": "stderr",
     "output_type": "stream",
     "text": [
      "C:\\Users\\shyam\\AppData\\Local\\Temp\\ipykernel_28516\\3483609155.py:2: DtypeWarning: Columns (1) have mixed types. Specify dtype option on import or set low_memory=False.\n",
      "  df = pd.read_csv(\"Crash_Reporting_-_Drivers_Data.csv\")\n"
     ]
    }
   ],
   "source": [
    "import pandas as pd\n",
    "df = pd.read_csv(\"Crash_Reporting_-_Drivers_Data.csv\")"
   ]
  },
  {
   "cell_type": "code",
   "execution_count": 2,
   "metadata": {},
   "outputs": [],
   "source": [
    "# Removing unknown records from Driver at Fault\n",
    "df = df[df[\"Driver At Fault\"]!=\"Unknown\"]"
   ]
  },
  {
   "cell_type": "code",
   "execution_count": 3,
   "metadata": {},
   "outputs": [
    {
     "name": "stderr",
     "output_type": "stream",
     "text": [
      "C:\\Users\\shyam\\AppData\\Local\\Temp\\ipykernel_28516\\481649611.py:1: FutureWarning: A value is trying to be set on a copy of a DataFrame or Series through chained assignment using an inplace method.\n",
      "The behavior will change in pandas 3.0. This inplace method will never work because the intermediate object on which we are setting values always behaves as a copy.\n",
      "\n",
      "For example, when doing 'df[col].method(value, inplace=True)', try using 'df.method({col: value}, inplace=True)' or df[col] = df[col].method(value) instead, to perform the operation inplace on the original object.\n",
      "\n",
      "\n",
      "  df[\"Surface Condition\"].fillna(\"Unknown\", inplace=True)\n"
     ]
    }
   ],
   "source": [
    "df[\"Surface Condition\"].fillna(\"Unknown\", inplace=True)"
   ]
  },
  {
   "cell_type": "code",
   "execution_count": 4,
   "metadata": {},
   "outputs": [
    {
     "name": "stderr",
     "output_type": "stream",
     "text": [
      "C:\\Users\\shyam\\AppData\\Local\\Temp\\ipykernel_28516\\4120849912.py:2: FutureWarning: DataFrame.applymap has been deprecated. Use DataFrame.map instead.\n",
      "  df=df.applymap(lambda x: str(x).lower() if isinstance(x,str) else x)\n"
     ]
    }
   ],
   "source": [
    "#converting everything into lower case \n",
    "df=df.applymap(lambda x: str(x).lower() if isinstance(x,str) else x)"
   ]
  },
  {
   "cell_type": "code",
   "execution_count": 5,
   "metadata": {},
   "outputs": [],
   "source": [
    "# converting to datetime object from string\n",
    "import datetime\n",
    "df[\"Crash Date/Time\"] = df[\"Crash Date/Time\"].apply(lambda x: datetime.datetime.strptime(x, \"%m/%d/%Y %I:%M:%S %p\"))"
   ]
  },
  {
   "cell_type": "code",
   "execution_count": 6,
   "metadata": {},
   "outputs": [],
   "source": [
    "df = df.sort_values(by='Crash Date/Time')"
   ]
  },
  {
   "cell_type": "code",
   "execution_count": 7,
   "metadata": {},
   "outputs": [],
   "source": [
    "# remove null values from this column 156 na found\n",
    "df = df[df[\"Vehicle First Impact Location\"].notna()]\n",
    "\n",
    "# combining categories\n",
    "df[\"Vehicle First Impact Location\"] = df[\"Vehicle First Impact Location\"].str.replace(\"roof top\", \"top\", regex=True)\n",
    "df[\"Vehicle First Impact Location\"] = df[\"Vehicle First Impact Location\"].str.replace(\" \", \"\", regex=True)\n",
    "\n",
    "df[\"Vehicle Movement\"] = df[\"Vehicle Movement\"].str.replace(\"making u-turn\", \"making u turn\", regex=True)\n",
    "df[\"Vehicle Movement\"] = df[\"Vehicle Movement\"].str.replace(\"parking\", \"parked\", regex=True)\n",
    "\n",
    "df[\"Driver Distracted By\"] = df[\"Driver Distracted By\"].str.replace(\"other distraction\", \"other action (looking away from task, etc.)\", regex=True)\n",
    "df[\"Driver Distracted By\"] = df[\"Driver Distracted By\"].str.replace(\"other cellular phone related\", \"talking or listening to cellular phone\", regex=True)\n",
    "df[\"Driver Distracted By\"] = df[\"Driver Distracted By\"].str.replace(\"adjusting audio and or climate controls\", \"using other device controls integral to vehicle\", regex=True)\n",
    "\n",
    "df[\"Route Type\"] = df[\"Route Type\"].str.replace('-', 'unknown', regex=True)\n",
    "df[\"Off-Road Description\"] = df[\"Off-Road Description\"].str.replace('-', 'unknown', regex=True)"
   ]
  },
  {
   "cell_type": "code",
   "execution_count": 8,
   "metadata": {},
   "outputs": [],
   "source": [
    "# drop irrelavat or redundant columns\n",
    "\n",
    "df.drop(columns=['Circumstance', 'Driverless Vehicle', 'Vehicle Year', 'Vehicle Make', 'Vehicle Model','Location','Related Non-Motorist', 'Non-Motorist Substance Abuse','Report Number', 'Local Case Number'], inplace=True)"
   ]
  },
  {
   "cell_type": "code",
   "execution_count": 9,
   "metadata": {},
   "outputs": [
    {
     "data": {
      "text/plain": [
       "Index(['Agency Name', 'ACRS Report Type', 'Crash Date/Time', 'Route Type',\n",
       "       'Road Name', 'Cross-Street Name', 'Off-Road Description',\n",
       "       'Municipality', 'Collision Type', 'Weather', 'Surface Condition',\n",
       "       'Light', 'Traffic Control', 'Driver Substance Abuse', 'Person ID',\n",
       "       'Driver At Fault', 'Injury Severity', 'Driver Distracted By',\n",
       "       'Drivers License State', 'Vehicle ID', 'Vehicle Damage Extent',\n",
       "       'Vehicle First Impact Location', 'Vehicle Body Type',\n",
       "       'Vehicle Movement', 'Vehicle Going Dir', 'Speed Limit',\n",
       "       'Parked Vehicle', 'Latitude', 'Longitude'],\n",
       "      dtype='object')"
      ]
     },
     "execution_count": 9,
     "metadata": {},
     "output_type": "execute_result"
    }
   ],
   "source": [
    "df.columns"
   ]
  },
  {
   "cell_type": "code",
   "execution_count": 10,
   "metadata": {},
   "outputs": [
    {
     "data": {
      "text/plain": [
       "Driver At Fault\n",
       "yes    96882\n",
       "no     84854\n",
       "Name: count, dtype: int64"
      ]
     },
     "execution_count": 10,
     "metadata": {},
     "output_type": "execute_result"
    }
   ],
   "source": [
    "df[\"Driver At Fault\"].value_counts()"
   ]
  },
  {
   "cell_type": "code",
   "execution_count": 11,
   "metadata": {},
   "outputs": [
    {
     "data": {
      "text/plain": [
       "Timestamp('2021-05-27 19:40:00')"
      ]
     },
     "execution_count": 11,
     "metadata": {},
     "output_type": "execute_result"
    }
   ],
   "source": [
    "df[\"Crash Date/Time\"][0]"
   ]
  },
  {
   "cell_type": "code",
   "execution_count": 12,
   "metadata": {},
   "outputs": [],
   "source": [
    "# Function to determine the time period\n",
    "def get_time_period(time):\n",
    "    if time.hour >= 20 or time.hour < 6:  # 8 PM to 5:59 AM\n",
    "        return 'Night'\n",
    "    elif 17 <= time.hour < 20:  # 5 PM to 7:59 PM\n",
    "        return 'Evening'\n",
    "    elif 12 <= time.hour < 17:  # 12 PM to 4:59 PM\n",
    "        return 'Afternoon'\n",
    "    else:  # 6 AM to 11:59 AM\n",
    "        return 'Day'\n",
    "\n",
    "# Apply the function to the 'Timestamp' column\n",
    "df['Time_Period'] = df['Crash Date/Time'].apply(get_time_period)\n",
    "\n"
   ]
  },
  {
   "cell_type": "code",
   "execution_count": 13,
   "metadata": {},
   "outputs": [
    {
     "data": {
      "text/html": [
       "<div>\n",
       "<style scoped>\n",
       "    .dataframe tbody tr th:only-of-type {\n",
       "        vertical-align: middle;\n",
       "    }\n",
       "\n",
       "    .dataframe tbody tr th {\n",
       "        vertical-align: top;\n",
       "    }\n",
       "\n",
       "    .dataframe thead th {\n",
       "        text-align: right;\n",
       "    }\n",
       "</style>\n",
       "<table border=\"1\" class=\"dataframe\">\n",
       "  <thead>\n",
       "    <tr style=\"text-align: right;\">\n",
       "      <th>Driver At Fault</th>\n",
       "      <th>no</th>\n",
       "      <th>yes</th>\n",
       "      <th>Y_Percentage</th>\n",
       "    </tr>\n",
       "    <tr>\n",
       "      <th>Time_Period</th>\n",
       "      <th></th>\n",
       "      <th></th>\n",
       "      <th></th>\n",
       "    </tr>\n",
       "  </thead>\n",
       "  <tbody>\n",
       "    <tr>\n",
       "      <th>Afternoon</th>\n",
       "      <td>29033</td>\n",
       "      <td>31423</td>\n",
       "      <td>0.519766</td>\n",
       "    </tr>\n",
       "    <tr>\n",
       "      <th>Day</th>\n",
       "      <td>24306</td>\n",
       "      <td>27215</td>\n",
       "      <td>0.528231</td>\n",
       "    </tr>\n",
       "    <tr>\n",
       "      <th>Night</th>\n",
       "      <td>13789</td>\n",
       "      <td>19893</td>\n",
       "      <td>0.590612</td>\n",
       "    </tr>\n",
       "    <tr>\n",
       "      <th>Evening</th>\n",
       "      <td>17726</td>\n",
       "      <td>18351</td>\n",
       "      <td>0.508662</td>\n",
       "    </tr>\n",
       "  </tbody>\n",
       "</table>\n",
       "</div>"
      ],
      "text/plain": [
       "Driver At Fault     no    yes  Y_Percentage\n",
       "Time_Period                                \n",
       "Afternoon        29033  31423      0.519766\n",
       "Day              24306  27215      0.528231\n",
       "Night            13789  19893      0.590612\n",
       "Evening          17726  18351      0.508662"
      ]
     },
     "execution_count": 13,
     "metadata": {},
     "output_type": "execute_result"
    }
   ],
   "source": [
    "crosstab_5 = pd.crosstab(df[\"Time_Period\"], df[\"Driver At Fault\"])\n",
    "crosstab_5[\"Y_Percentage\"] = crosstab_5[\"yes\"]/(crosstab_5[\"yes\"]+crosstab_5[\"no\"])\n",
    "crosstab_5.sort_values(by=\"yes\", ascending=False)"
   ]
  },
  {
   "cell_type": "code",
   "execution_count": 14,
   "metadata": {},
   "outputs": [],
   "source": [
    "df['Hour_Class'] = df['Crash Date/Time'].dt.hour"
   ]
  },
  {
   "cell_type": "code",
   "execution_count": 15,
   "metadata": {},
   "outputs": [
    {
     "data": {
      "text/html": [
       "<div>\n",
       "<style scoped>\n",
       "    .dataframe tbody tr th:only-of-type {\n",
       "        vertical-align: middle;\n",
       "    }\n",
       "\n",
       "    .dataframe tbody tr th {\n",
       "        vertical-align: top;\n",
       "    }\n",
       "\n",
       "    .dataframe thead th {\n",
       "        text-align: right;\n",
       "    }\n",
       "</style>\n",
       "<table border=\"1\" class=\"dataframe\">\n",
       "  <thead>\n",
       "    <tr style=\"text-align: right;\">\n",
       "      <th>Driver At Fault</th>\n",
       "      <th>no</th>\n",
       "      <th>yes</th>\n",
       "      <th>Y_Percentage</th>\n",
       "    </tr>\n",
       "    <tr>\n",
       "      <th>Hour_Class</th>\n",
       "      <th></th>\n",
       "      <th></th>\n",
       "      <th></th>\n",
       "    </tr>\n",
       "  </thead>\n",
       "  <tbody>\n",
       "    <tr>\n",
       "      <th>17</th>\n",
       "      <td>7254</td>\n",
       "      <td>7341</td>\n",
       "      <td>0.502980</td>\n",
       "    </tr>\n",
       "    <tr>\n",
       "      <th>16</th>\n",
       "      <td>7065</td>\n",
       "      <td>7207</td>\n",
       "      <td>0.504975</td>\n",
       "    </tr>\n",
       "    <tr>\n",
       "      <th>15</th>\n",
       "      <td>6831</td>\n",
       "      <td>7163</td>\n",
       "      <td>0.511862</td>\n",
       "    </tr>\n",
       "    <tr>\n",
       "      <th>18</th>\n",
       "      <td>6194</td>\n",
       "      <td>6367</td>\n",
       "      <td>0.506886</td>\n",
       "    </tr>\n",
       "    <tr>\n",
       "      <th>14</th>\n",
       "      <td>5363</td>\n",
       "      <td>5948</td>\n",
       "      <td>0.525860</td>\n",
       "    </tr>\n",
       "    <tr>\n",
       "      <th>8</th>\n",
       "      <td>5341</td>\n",
       "      <td>5751</td>\n",
       "      <td>0.518482</td>\n",
       "    </tr>\n",
       "    <tr>\n",
       "      <th>13</th>\n",
       "      <td>4970</td>\n",
       "      <td>5566</td>\n",
       "      <td>0.528284</td>\n",
       "    </tr>\n",
       "    <tr>\n",
       "      <th>12</th>\n",
       "      <td>4804</td>\n",
       "      <td>5539</td>\n",
       "      <td>0.535531</td>\n",
       "    </tr>\n",
       "    <tr>\n",
       "      <th>9</th>\n",
       "      <td>4671</td>\n",
       "      <td>5184</td>\n",
       "      <td>0.526027</td>\n",
       "    </tr>\n",
       "    <tr>\n",
       "      <th>11</th>\n",
       "      <td>4161</td>\n",
       "      <td>4817</td>\n",
       "      <td>0.536534</td>\n",
       "    </tr>\n",
       "    <tr>\n",
       "      <th>19</th>\n",
       "      <td>4278</td>\n",
       "      <td>4643</td>\n",
       "      <td>0.520457</td>\n",
       "    </tr>\n",
       "    <tr>\n",
       "      <th>7</th>\n",
       "      <td>4173</td>\n",
       "      <td>4601</td>\n",
       "      <td>0.524390</td>\n",
       "    </tr>\n",
       "    <tr>\n",
       "      <th>10</th>\n",
       "      <td>3803</td>\n",
       "      <td>4372</td>\n",
       "      <td>0.534801</td>\n",
       "    </tr>\n",
       "    <tr>\n",
       "      <th>20</th>\n",
       "      <td>3180</td>\n",
       "      <td>3637</td>\n",
       "      <td>0.533519</td>\n",
       "    </tr>\n",
       "    <tr>\n",
       "      <th>21</th>\n",
       "      <td>2798</td>\n",
       "      <td>3314</td>\n",
       "      <td>0.542212</td>\n",
       "    </tr>\n",
       "    <tr>\n",
       "      <th>22</th>\n",
       "      <td>1998</td>\n",
       "      <td>2653</td>\n",
       "      <td>0.570415</td>\n",
       "    </tr>\n",
       "    <tr>\n",
       "      <th>6</th>\n",
       "      <td>2157</td>\n",
       "      <td>2490</td>\n",
       "      <td>0.535830</td>\n",
       "    </tr>\n",
       "    <tr>\n",
       "      <th>23</th>\n",
       "      <td>1344</td>\n",
       "      <td>2143</td>\n",
       "      <td>0.614568</td>\n",
       "    </tr>\n",
       "    <tr>\n",
       "      <th>0</th>\n",
       "      <td>973</td>\n",
       "      <td>1713</td>\n",
       "      <td>0.637751</td>\n",
       "    </tr>\n",
       "    <tr>\n",
       "      <th>5</th>\n",
       "      <td>1129</td>\n",
       "      <td>1469</td>\n",
       "      <td>0.565435</td>\n",
       "    </tr>\n",
       "    <tr>\n",
       "      <th>1</th>\n",
       "      <td>732</td>\n",
       "      <td>1454</td>\n",
       "      <td>0.665142</td>\n",
       "    </tr>\n",
       "    <tr>\n",
       "      <th>2</th>\n",
       "      <td>595</td>\n",
       "      <td>1286</td>\n",
       "      <td>0.683679</td>\n",
       "    </tr>\n",
       "    <tr>\n",
       "      <th>3</th>\n",
       "      <td>540</td>\n",
       "      <td>1194</td>\n",
       "      <td>0.688581</td>\n",
       "    </tr>\n",
       "    <tr>\n",
       "      <th>4</th>\n",
       "      <td>500</td>\n",
       "      <td>1030</td>\n",
       "      <td>0.673203</td>\n",
       "    </tr>\n",
       "  </tbody>\n",
       "</table>\n",
       "</div>"
      ],
      "text/plain": [
       "Driver At Fault    no   yes  Y_Percentage\n",
       "Hour_Class                               \n",
       "17               7254  7341      0.502980\n",
       "16               7065  7207      0.504975\n",
       "15               6831  7163      0.511862\n",
       "18               6194  6367      0.506886\n",
       "14               5363  5948      0.525860\n",
       "8                5341  5751      0.518482\n",
       "13               4970  5566      0.528284\n",
       "12               4804  5539      0.535531\n",
       "9                4671  5184      0.526027\n",
       "11               4161  4817      0.536534\n",
       "19               4278  4643      0.520457\n",
       "7                4173  4601      0.524390\n",
       "10               3803  4372      0.534801\n",
       "20               3180  3637      0.533519\n",
       "21               2798  3314      0.542212\n",
       "22               1998  2653      0.570415\n",
       "6                2157  2490      0.535830\n",
       "23               1344  2143      0.614568\n",
       "0                 973  1713      0.637751\n",
       "5                1129  1469      0.565435\n",
       "1                 732  1454      0.665142\n",
       "2                 595  1286      0.683679\n",
       "3                 540  1194      0.688581\n",
       "4                 500  1030      0.673203"
      ]
     },
     "execution_count": 15,
     "metadata": {},
     "output_type": "execute_result"
    }
   ],
   "source": [
    "crosstab_5 = pd.crosstab(df[\"Hour_Class\"], df[\"Driver At Fault\"])\n",
    "crosstab_5[\"Y_Percentage\"] = crosstab_5[\"yes\"]/(crosstab_5[\"yes\"]+crosstab_5[\"no\"])\n",
    "crosstab_5.sort_values(by=\"yes\", ascending=False)"
   ]
  },
  {
   "cell_type": "code",
   "execution_count": 16,
   "metadata": {},
   "outputs": [
    {
     "data": {
      "text/plain": [
       "Traffic Control\n",
       "no controls                                                                 73817\n",
       "traffic signal                                                              56939\n",
       "stop sign                                                                   12976\n",
       "traffic control signal                                                       4688\n",
       "flashing traffic signal                                                      2100\n",
       "other                                                                        1992\n",
       "yield sign                                                                   1838\n",
       "flashing traffic control signal                                               289\n",
       "person                                                                        275\n",
       "unknown                                                                       216\n",
       "warning sign                                                                  152\n",
       "lane use control signal                                                       123\n",
       "pedestrian crossing sign                                                       88\n",
       "pedestrian crossing                                                            52\n",
       "railway crossing device                                                        44\n",
       "other pavement marking (excluding edgelines, centerlines, or lane lines)       40\n",
       "other signal                                                                   27\n",
       "other warning sign                                                             19\n",
       "person (including flagger, law enforcement, crossing guard, etc.               19\n",
       "school zone sign device                                                        16\n",
       "intersection ahead warning sign                                                10\n",
       "curve ahead warning sign                                                       10\n",
       "reduce speed ahead warning sign                                                 4\n",
       "school zone sign                                                                3\n",
       "flashing railroad crossing signal (may include gates)                           2\n",
       "ramp meter signal                                                               2\n",
       "bicycle crossing sign                                                           1\n",
       "Name: count, dtype: int64"
      ]
     },
     "execution_count": 16,
     "metadata": {},
     "output_type": "execute_result"
    }
   ],
   "source": [
    "df[\"Traffic Control\"].value_counts()"
   ]
  },
  {
   "cell_type": "code",
   "execution_count": 17,
   "metadata": {},
   "outputs": [
    {
     "data": {
      "text/html": [
       "<div>\n",
       "<style scoped>\n",
       "    .dataframe tbody tr th:only-of-type {\n",
       "        vertical-align: middle;\n",
       "    }\n",
       "\n",
       "    .dataframe tbody tr th {\n",
       "        vertical-align: top;\n",
       "    }\n",
       "\n",
       "    .dataframe thead th {\n",
       "        text-align: right;\n",
       "    }\n",
       "</style>\n",
       "<table border=\"1\" class=\"dataframe\">\n",
       "  <thead>\n",
       "    <tr style=\"text-align: right;\">\n",
       "      <th>Driver At Fault</th>\n",
       "      <th>no</th>\n",
       "      <th>yes</th>\n",
       "      <th>Y_Percentage</th>\n",
       "    </tr>\n",
       "    <tr>\n",
       "      <th>Traffic Control</th>\n",
       "      <th></th>\n",
       "      <th></th>\n",
       "      <th></th>\n",
       "    </tr>\n",
       "  </thead>\n",
       "  <tbody>\n",
       "    <tr>\n",
       "      <th>no controls</th>\n",
       "      <td>32459</td>\n",
       "      <td>41358</td>\n",
       "      <td>0.560277</td>\n",
       "    </tr>\n",
       "    <tr>\n",
       "      <th>traffic signal</th>\n",
       "      <td>29016</td>\n",
       "      <td>27923</td>\n",
       "      <td>0.490402</td>\n",
       "    </tr>\n",
       "    <tr>\n",
       "      <th>stop sign</th>\n",
       "      <td>6179</td>\n",
       "      <td>6797</td>\n",
       "      <td>0.523813</td>\n",
       "    </tr>\n",
       "    <tr>\n",
       "      <th>traffic control signal</th>\n",
       "      <td>3292</td>\n",
       "      <td>1396</td>\n",
       "      <td>0.297782</td>\n",
       "    </tr>\n",
       "    <tr>\n",
       "      <th>flashing traffic signal</th>\n",
       "      <td>971</td>\n",
       "      <td>1129</td>\n",
       "      <td>0.537619</td>\n",
       "    </tr>\n",
       "    <tr>\n",
       "      <th>other</th>\n",
       "      <td>875</td>\n",
       "      <td>1117</td>\n",
       "      <td>0.560743</td>\n",
       "    </tr>\n",
       "    <tr>\n",
       "      <th>yield sign</th>\n",
       "      <td>892</td>\n",
       "      <td>946</td>\n",
       "      <td>0.514690</td>\n",
       "    </tr>\n",
       "    <tr>\n",
       "      <th>person</th>\n",
       "      <td>121</td>\n",
       "      <td>154</td>\n",
       "      <td>0.560000</td>\n",
       "    </tr>\n",
       "    <tr>\n",
       "      <th>unknown</th>\n",
       "      <td>79</td>\n",
       "      <td>137</td>\n",
       "      <td>0.634259</td>\n",
       "    </tr>\n",
       "    <tr>\n",
       "      <th>warning sign</th>\n",
       "      <td>45</td>\n",
       "      <td>107</td>\n",
       "      <td>0.703947</td>\n",
       "    </tr>\n",
       "    <tr>\n",
       "      <th>flashing traffic control signal</th>\n",
       "      <td>205</td>\n",
       "      <td>84</td>\n",
       "      <td>0.290657</td>\n",
       "    </tr>\n",
       "    <tr>\n",
       "      <th>lane use control signal</th>\n",
       "      <td>87</td>\n",
       "      <td>36</td>\n",
       "      <td>0.292683</td>\n",
       "    </tr>\n",
       "    <tr>\n",
       "      <th>pedestrian crossing sign</th>\n",
       "      <td>57</td>\n",
       "      <td>31</td>\n",
       "      <td>0.352273</td>\n",
       "    </tr>\n",
       "    <tr>\n",
       "      <th>railway crossing device</th>\n",
       "      <td>20</td>\n",
       "      <td>24</td>\n",
       "      <td>0.545455</td>\n",
       "    </tr>\n",
       "    <tr>\n",
       "      <th>pedestrian crossing</th>\n",
       "      <td>38</td>\n",
       "      <td>14</td>\n",
       "      <td>0.269231</td>\n",
       "    </tr>\n",
       "    <tr>\n",
       "      <th>other pavement marking (excluding edgelines, centerlines, or lane lines)</th>\n",
       "      <td>26</td>\n",
       "      <td>14</td>\n",
       "      <td>0.350000</td>\n",
       "    </tr>\n",
       "    <tr>\n",
       "      <th>school zone sign device</th>\n",
       "      <td>4</td>\n",
       "      <td>12</td>\n",
       "      <td>0.750000</td>\n",
       "    </tr>\n",
       "    <tr>\n",
       "      <th>person (including flagger, law enforcement, crossing guard, etc.</th>\n",
       "      <td>10</td>\n",
       "      <td>9</td>\n",
       "      <td>0.473684</td>\n",
       "    </tr>\n",
       "    <tr>\n",
       "      <th>other signal</th>\n",
       "      <td>19</td>\n",
       "      <td>8</td>\n",
       "      <td>0.296296</td>\n",
       "    </tr>\n",
       "    <tr>\n",
       "      <th>other warning sign</th>\n",
       "      <td>15</td>\n",
       "      <td>4</td>\n",
       "      <td>0.210526</td>\n",
       "    </tr>\n",
       "    <tr>\n",
       "      <th>curve ahead warning sign</th>\n",
       "      <td>7</td>\n",
       "      <td>3</td>\n",
       "      <td>0.300000</td>\n",
       "    </tr>\n",
       "    <tr>\n",
       "      <th>reduce speed ahead warning sign</th>\n",
       "      <td>2</td>\n",
       "      <td>2</td>\n",
       "      <td>0.500000</td>\n",
       "    </tr>\n",
       "    <tr>\n",
       "      <th>school zone sign</th>\n",
       "      <td>1</td>\n",
       "      <td>2</td>\n",
       "      <td>0.666667</td>\n",
       "    </tr>\n",
       "    <tr>\n",
       "      <th>intersection ahead warning sign</th>\n",
       "      <td>8</td>\n",
       "      <td>2</td>\n",
       "      <td>0.200000</td>\n",
       "    </tr>\n",
       "    <tr>\n",
       "      <th>ramp meter signal</th>\n",
       "      <td>1</td>\n",
       "      <td>1</td>\n",
       "      <td>0.500000</td>\n",
       "    </tr>\n",
       "    <tr>\n",
       "      <th>flashing railroad crossing signal (may include gates)</th>\n",
       "      <td>2</td>\n",
       "      <td>0</td>\n",
       "      <td>0.000000</td>\n",
       "    </tr>\n",
       "    <tr>\n",
       "      <th>bicycle crossing sign</th>\n",
       "      <td>1</td>\n",
       "      <td>0</td>\n",
       "      <td>0.000000</td>\n",
       "    </tr>\n",
       "  </tbody>\n",
       "</table>\n",
       "</div>"
      ],
      "text/plain": [
       "Driver At Fault                                        no    yes  Y_Percentage\n",
       "Traffic Control                                                               \n",
       "no controls                                         32459  41358      0.560277\n",
       "traffic signal                                      29016  27923      0.490402\n",
       "stop sign                                            6179   6797      0.523813\n",
       "traffic control signal                               3292   1396      0.297782\n",
       "flashing traffic signal                               971   1129      0.537619\n",
       "other                                                 875   1117      0.560743\n",
       "yield sign                                            892    946      0.514690\n",
       "person                                                121    154      0.560000\n",
       "unknown                                                79    137      0.634259\n",
       "warning sign                                           45    107      0.703947\n",
       "flashing traffic control signal                       205     84      0.290657\n",
       "lane use control signal                                87     36      0.292683\n",
       "pedestrian crossing sign                               57     31      0.352273\n",
       "railway crossing device                                20     24      0.545455\n",
       "pedestrian crossing                                    38     14      0.269231\n",
       "other pavement marking (excluding edgelines, ce...     26     14      0.350000\n",
       "school zone sign device                                 4     12      0.750000\n",
       "person (including flagger, law enforcement, cro...     10      9      0.473684\n",
       "other signal                                           19      8      0.296296\n",
       "other warning sign                                     15      4      0.210526\n",
       "curve ahead warning sign                                7      3      0.300000\n",
       "reduce speed ahead warning sign                         2      2      0.500000\n",
       "school zone sign                                        1      2      0.666667\n",
       "intersection ahead warning sign                         8      2      0.200000\n",
       "ramp meter signal                                       1      1      0.500000\n",
       "flashing railroad crossing signal (may include ...      2      0      0.000000\n",
       "bicycle crossing sign                                   1      0      0.000000"
      ]
     },
     "execution_count": 17,
     "metadata": {},
     "output_type": "execute_result"
    }
   ],
   "source": [
    "crosstab_5 = pd.crosstab(df[\"Traffic Control\"], df[\"Driver At Fault\"])\n",
    "crosstab_5[\"Y_Percentage\"] = crosstab_5[\"yes\"]/(crosstab_5[\"yes\"]+crosstab_5[\"no\"])\n",
    "crosstab_5.sort_values(by=\"yes\", ascending=False)"
   ]
  },
  {
   "cell_type": "code",
   "execution_count": 18,
   "metadata": {},
   "outputs": [
    {
     "data": {
      "text/plain": [
       "Index(['Agency Name', 'ACRS Report Type', 'Crash Date/Time', 'Route Type',\n",
       "       'Road Name', 'Cross-Street Name', 'Off-Road Description',\n",
       "       'Municipality', 'Collision Type', 'Weather', 'Surface Condition',\n",
       "       'Light', 'Traffic Control', 'Driver Substance Abuse', 'Person ID',\n",
       "       'Driver At Fault', 'Injury Severity', 'Driver Distracted By',\n",
       "       'Drivers License State', 'Vehicle ID', 'Vehicle Damage Extent',\n",
       "       'Vehicle First Impact Location', 'Vehicle Body Type',\n",
       "       'Vehicle Movement', 'Vehicle Going Dir', 'Speed Limit',\n",
       "       'Parked Vehicle', 'Latitude', 'Longitude', 'Time_Period', 'Hour_Class'],\n",
       "      dtype='object')"
      ]
     },
     "execution_count": 18,
     "metadata": {},
     "output_type": "execute_result"
    }
   ],
   "source": [
    "df.columns"
   ]
  },
  {
   "cell_type": "code",
   "execution_count": 19,
   "metadata": {},
   "outputs": [
    {
     "data": {
      "text/plain": [
       "Driver Substance Abuse\n",
       "none detected                                          119228\n",
       "not suspect of alcohol use, not suspect of drug use     12422\n",
       "unknown                                                 11527\n",
       "alcohol present                                          4066\n",
       "unknown, unknown                                         1513\n",
       "alcohol contributed                                      1432\n",
       "suspect of alcohol use, not suspect of drug use           369\n",
       "illegal drug present                                      258\n",
       "medication present                                        116\n",
       "illegal drug contributed                                  102\n",
       "combined substance present                                 90\n",
       "medication contributed                                     63\n",
       "other                                                      59\n",
       "combination contributed                                    47\n",
       "suspect of alcohol use, unknown                            44\n",
       "unknown, not suspect of drug use                           32\n",
       "suspect of alcohol use, suspect of drug use                26\n",
       "not suspect of alcohol use, unknown                        25\n",
       "not suspect of alcohol use, suspect of drug use            18\n",
       "unknown, suspect of drug use                                2\n",
       "Name: count, dtype: int64"
      ]
     },
     "execution_count": 19,
     "metadata": {},
     "output_type": "execute_result"
    }
   ],
   "source": [
    "df[\"Driver Substance Abuse\"].value_counts()"
   ]
  },
  {
   "cell_type": "code",
   "execution_count": 20,
   "metadata": {},
   "outputs": [],
   "source": [
    "df[\"Driver Substance Abuse\"] = df[\"Driver Substance Abuse\"].str.replace(\"not suspect of alcohol use, not suspect of drug use\", \"none detected\", regex=True)\n",
    "df[\"Driver Substance Abuse\"] = df[\"Driver Substance Abuse\"].str.replace(\"unknown, unknown\", \"unknown\", regex=True)\n",
    "df[\"Driver Substance Abuse\"] = df[\"Driver Substance Abuse\"].str.replace(\"not suspect of alcohol use, suspect of drug use\", \"suspect of drug use\", regex=True)\n",
    "df[\"Driver Substance Abuse\"] = df[\"Driver Substance Abuse\"].str.replace(\"not suspect of alcohol use, unknown\", \"unknown\", regex=True)\n",
    "df[\"Driver Substance Abuse\"] = df[\"Driver Substance Abuse\"].str.replace(\"suspect of alcohol use, not suspect of drug use\", \"suspect of alcohol use\", regex=True)\n",
    "df[\"Driver Substance Abuse\"] = df[\"Driver Substance Abuse\"].str.replace(\"alcohol contributed\", \"alcohol present\", regex=True)\n",
    "df[\"Driver Substance Abuse\"] = df[\"Driver Substance Abuse\"].str.replace(\"illegal drug contributed\", \"illegal drug present\", regex=True)\n",
    "df[\"Driver Substance Abuse\"] = df[\"Driver Substance Abuse\"].str.replace(\"combination contributed\", \"combined substance present\", regex=True)\n",
    "df[\"Driver Substance Abuse\"] = df[\"Driver Substance Abuse\"].str.replace(\"suspect of alcohol use, unknown\", \"suspect of alcohol use\", regex=True)\n",
    "df[\"Driver Substance Abuse\"] = df[\"Driver Substance Abuse\"].str.replace(\"suspect of alcohol use, suspect of drug use\", \"combined substance present\", regex=True)\n",
    "df[\"Driver Substance Abuse\"] = df[\"Driver Substance Abuse\"].str.replace(\"not suspect of alcohol use, unknown\", \"unknown\", regex=True)\n",
    "df[\"Driver Substance Abuse\"] = df[\"Driver Substance Abuse\"].str.replace(\"unknown, suspect of drug use\", \"suspect of drug use\", regex=True)\n",
    "df[\"Driver Substance Abuse\"] = df[\"Driver Substance Abuse\"].str.replace(\"other\", \"unknown\", regex=True)\n",
    "df[\"Driver Substance Abuse\"] = df[\"Driver Substance Abuse\"].str.replace(\"unknown, not suspect of drug use\", \"none detected\", regex=True)\n",
    "df[\"Driver Substance Abuse\"] = df[\"Driver Substance Abuse\"].str.replace(\"medication contributed\", \"medication present\", regex=True)\n",
    "\n"
   ]
  },
  {
   "cell_type": "code",
   "execution_count": 21,
   "metadata": {},
   "outputs": [
    {
     "data": {
      "text/plain": [
       "Driver Substance Abuse\n",
       "none detected                 131682\n",
       "unknown                        13124\n",
       "alcohol present                 5498\n",
       "suspect of alcohol use           413\n",
       "illegal drug present             360\n",
       "medication present               179\n",
       "combined substance present       163\n",
       "suspect of drug use               20\n",
       "Name: count, dtype: int64"
      ]
     },
     "execution_count": 21,
     "metadata": {},
     "output_type": "execute_result"
    }
   ],
   "source": [
    "df[\"Driver Substance Abuse\"].value_counts()"
   ]
  },
  {
   "cell_type": "code",
   "execution_count": 22,
   "metadata": {},
   "outputs": [
    {
     "data": {
      "text/html": [
       "<div>\n",
       "<style scoped>\n",
       "    .dataframe tbody tr th:only-of-type {\n",
       "        vertical-align: middle;\n",
       "    }\n",
       "\n",
       "    .dataframe tbody tr th {\n",
       "        vertical-align: top;\n",
       "    }\n",
       "\n",
       "    .dataframe thead th {\n",
       "        text-align: right;\n",
       "    }\n",
       "</style>\n",
       "<table border=\"1\" class=\"dataframe\">\n",
       "  <thead>\n",
       "    <tr style=\"text-align: right;\">\n",
       "      <th>Driver At Fault</th>\n",
       "      <th>no</th>\n",
       "      <th>yes</th>\n",
       "      <th>Y_Percentage</th>\n",
       "    </tr>\n",
       "    <tr>\n",
       "      <th>Driver Substance Abuse</th>\n",
       "      <th></th>\n",
       "      <th></th>\n",
       "      <th></th>\n",
       "    </tr>\n",
       "  </thead>\n",
       "  <tbody>\n",
       "    <tr>\n",
       "      <th>none detected</th>\n",
       "      <td>67870</td>\n",
       "      <td>63812</td>\n",
       "      <td>0.484592</td>\n",
       "    </tr>\n",
       "    <tr>\n",
       "      <th>unknown</th>\n",
       "      <td>1921</td>\n",
       "      <td>11203</td>\n",
       "      <td>0.853627</td>\n",
       "    </tr>\n",
       "    <tr>\n",
       "      <th>alcohol present</th>\n",
       "      <td>113</td>\n",
       "      <td>5385</td>\n",
       "      <td>0.979447</td>\n",
       "    </tr>\n",
       "    <tr>\n",
       "      <th>illegal drug present</th>\n",
       "      <td>12</td>\n",
       "      <td>348</td>\n",
       "      <td>0.966667</td>\n",
       "    </tr>\n",
       "    <tr>\n",
       "      <th>suspect of alcohol use</th>\n",
       "      <td>140</td>\n",
       "      <td>273</td>\n",
       "      <td>0.661017</td>\n",
       "    </tr>\n",
       "    <tr>\n",
       "      <th>medication present</th>\n",
       "      <td>18</td>\n",
       "      <td>161</td>\n",
       "      <td>0.899441</td>\n",
       "    </tr>\n",
       "    <tr>\n",
       "      <th>combined substance present</th>\n",
       "      <td>9</td>\n",
       "      <td>154</td>\n",
       "      <td>0.944785</td>\n",
       "    </tr>\n",
       "    <tr>\n",
       "      <th>suspect of drug use</th>\n",
       "      <td>6</td>\n",
       "      <td>14</td>\n",
       "      <td>0.700000</td>\n",
       "    </tr>\n",
       "  </tbody>\n",
       "</table>\n",
       "</div>"
      ],
      "text/plain": [
       "Driver At Fault                no    yes  Y_Percentage\n",
       "Driver Substance Abuse                                \n",
       "none detected               67870  63812      0.484592\n",
       "unknown                      1921  11203      0.853627\n",
       "alcohol present               113   5385      0.979447\n",
       "illegal drug present           12    348      0.966667\n",
       "suspect of alcohol use        140    273      0.661017\n",
       "medication present             18    161      0.899441\n",
       "combined substance present      9    154      0.944785\n",
       "suspect of drug use             6     14      0.700000"
      ]
     },
     "execution_count": 22,
     "metadata": {},
     "output_type": "execute_result"
    }
   ],
   "source": [
    "crosstab_5 = pd.crosstab(df[\"Driver Substance Abuse\"], df[\"Driver At Fault\"])\n",
    "crosstab_5[\"Y_Percentage\"] = crosstab_5[\"yes\"]/(crosstab_5[\"yes\"]+crosstab_5[\"no\"])\n",
    "crosstab_5.sort_values(by=\"yes\", ascending=False)"
   ]
  },
  {
   "cell_type": "code",
   "execution_count": 23,
   "metadata": {},
   "outputs": [
    {
     "data": {
      "text/plain": [
       "Index(['Agency Name', 'ACRS Report Type', 'Crash Date/Time', 'Route Type',\n",
       "       'Road Name', 'Cross-Street Name', 'Off-Road Description',\n",
       "       'Municipality', 'Collision Type', 'Weather', 'Surface Condition',\n",
       "       'Light', 'Traffic Control', 'Driver Substance Abuse', 'Person ID',\n",
       "       'Driver At Fault', 'Injury Severity', 'Driver Distracted By',\n",
       "       'Drivers License State', 'Vehicle ID', 'Vehicle Damage Extent',\n",
       "       'Vehicle First Impact Location', 'Vehicle Body Type',\n",
       "       'Vehicle Movement', 'Vehicle Going Dir', 'Speed Limit',\n",
       "       'Parked Vehicle', 'Latitude', 'Longitude', 'Time_Period', 'Hour_Class'],\n",
       "      dtype='object')"
      ]
     },
     "execution_count": 23,
     "metadata": {},
     "output_type": "execute_result"
    }
   ],
   "source": [
    "df.columns"
   ]
  },
  {
   "cell_type": "code",
   "execution_count": 24,
   "metadata": {},
   "outputs": [],
   "source": [
    "df.drop(columns=['Agency Name', 'ACRS Report Type', 'Crash Date/Time', 'Route Type',\n",
    "       'Road Name', 'Cross-Street Name', 'Off-Road Description',\n",
    "       'Municipality','Weather', 'Surface Condition',\n",
    "       'Light', 'Traffic Control','Person ID','Drivers License State', 'Vehicle ID', 'Vehicle Damage Extent','Vehicle Body Type','Vehicle Going Dir', 'Speed Limit',\n",
    "       'Parked Vehicle', 'Latitude', 'Longitude', 'Time_Period', 'Hour_Class'], inplace=True)"
   ]
  },
  {
   "cell_type": "code",
   "execution_count": 25,
   "metadata": {},
   "outputs": [
    {
     "data": {
      "text/plain": [
       "Index(['Collision Type', 'Driver Substance Abuse', 'Driver At Fault',\n",
       "       'Injury Severity', 'Driver Distracted By',\n",
       "       'Vehicle First Impact Location', 'Vehicle Movement'],\n",
       "      dtype='object')"
      ]
     },
     "execution_count": 25,
     "metadata": {},
     "output_type": "execute_result"
    }
   ],
   "source": [
    "df.columns"
   ]
  },
  {
   "cell_type": "code",
   "execution_count": 26,
   "metadata": {},
   "outputs": [
    {
     "data": {
      "text/plain": [
       "1389"
      ]
     },
     "execution_count": 26,
     "metadata": {},
     "output_type": "execute_result"
    }
   ],
   "source": [
    "df[\"Vehicle Movement\"].isna().sum()"
   ]
  },
  {
   "cell_type": "code",
   "execution_count": 27,
   "metadata": {},
   "outputs": [],
   "source": [
    "df.dropna(subset=[\"Vehicle Movement\"],inplace=True)"
   ]
  },
  {
   "cell_type": "code",
   "execution_count": 28,
   "metadata": {},
   "outputs": [
    {
     "data": {
      "text/plain": [
       "['stopped in traffic lane',\n",
       " 'slowing or stopping',\n",
       " 'making left turn',\n",
       " 'moving constant speed',\n",
       " 'starting from parked',\n",
       " 'parked',\n",
       " 'making right turn',\n",
       " 'accelerating',\n",
       " 'unknown',\n",
       " 'starting from lane',\n",
       " 'backing',\n",
       " 'changing lanes',\n",
       " 'entering traffic lane',\n",
       " 'skidding',\n",
       " 'other',\n",
       " 'making u turn',\n",
       " 'negotiating a curve',\n",
       " 'passing',\n",
       " 'leaving traffic lane',\n",
       " 'right turn on red',\n",
       " 'driverless moving veh.',\n",
       " 'overtaking/passing',\n",
       " 'turning left',\n",
       " 'stopped in traffic']"
      ]
     },
     "execution_count": 28,
     "metadata": {},
     "output_type": "execute_result"
    }
   ],
   "source": [
    "list(df[\"Vehicle Movement\"].unique())"
   ]
  },
  {
   "cell_type": "code",
   "execution_count": 29,
   "metadata": {},
   "outputs": [
    {
     "data": {
      "text/plain": [
       "Index(['Collision Type', 'Driver Substance Abuse', 'Driver At Fault',\n",
       "       'Injury Severity', 'Driver Distracted By',\n",
       "       'Vehicle First Impact Location', 'Vehicle Movement'],\n",
       "      dtype='object')"
      ]
     },
     "execution_count": 29,
     "metadata": {},
     "output_type": "execute_result"
    }
   ],
   "source": [
    "df.columns"
   ]
  },
  {
   "cell_type": "code",
   "execution_count": 30,
   "metadata": {},
   "outputs": [
    {
     "name": "stderr",
     "output_type": "stream",
     "text": [
      "C:\\Users\\shyam\\AppData\\Local\\Temp\\ipykernel_28516\\2483482584.py:2: FutureWarning: A value is trying to be set on a copy of a DataFrame or Series through chained assignment using an inplace method.\n",
      "The behavior will change in pandas 3.0. This inplace method will never work because the intermediate object on which we are setting values always behaves as a copy.\n",
      "\n",
      "For example, when doing 'df[col].method(value, inplace=True)', try using 'df.method({col: value}, inplace=True)' or df[col] = df[col].method(value) instead, to perform the operation inplace on the original object.\n",
      "\n",
      "\n",
      "  df['Driver Substance Abuse'].fillna(\"unknown\", inplace=True)\n"
     ]
    }
   ],
   "source": [
    "df['Driver Substance Abuse'].isna().sum()\n",
    "df['Driver Substance Abuse'].fillna(\"unknown\", inplace=True)"
   ]
  },
  {
   "cell_type": "code",
   "execution_count": 31,
   "metadata": {},
   "outputs": [
    {
     "data": {
      "text/plain": [
       "0"
      ]
     },
     "execution_count": 31,
     "metadata": {},
     "output_type": "execute_result"
    }
   ],
   "source": [
    "df['Driver Substance Abuse'].isna().sum()"
   ]
  },
  {
   "cell_type": "code",
   "execution_count": 32,
   "metadata": {},
   "outputs": [],
   "source": [
    "df.to_csv(\"EDA_3.csv\")"
   ]
  },
  {
   "cell_type": "code",
   "execution_count": 158,
   "metadata": {},
   "outputs": [],
   "source": [
    "from sklearn.pipeline import Pipeline\n",
    "from sklearn.compose import ColumnTransformer\n",
    "from sklearn.preprocessing import OneHotEncoder\n",
    "import numpy as np\n",
    "from sklearn.naive_bayes import CategoricalNB\n",
    "\n",
    "X  = np.array(df[['Collision Type', 'Driver Substance Abuse', \n",
    "       'Injury Severity', 'Driver Distracted By',\n",
    "       'Vehicle First Impact Location', 'Vehicle Movement']]\n",
    ")\n",
    "\n",
    "Y = np.array(df['Driver At Fault'])\n",
    "\n",
    "#ColumnTransformer takes 3 values \n",
    "\"\"\"1. name \n",
    "2. Transform or function to implement\n",
    "3. where to implement that function\"\"\"\n",
    "\n",
    "preprocessor = ColumnTransformer([('Collision Type', OneHotEncoder(), [0]),\n",
    "                        ('Driver Substance Abuse', OneHotEncoder(), [1]),\n",
    "                        ('Injury Severity', OneHotEncoder(), [2]),\n",
    "                        ('Driver Distracted By', OneHotEncoder(), [3]),\n",
    "                        ('Vehicle First Impact Location', OneHotEncoder(), [4]),\n",
    "                        ('Vehicle Movement', OneHotEncoder(), [5])])\n",
    "\n"
   ]
  },
  {
   "cell_type": "code",
   "execution_count": 169,
   "metadata": {},
   "outputs": [
    {
     "data": {
      "text/plain": [
       "array(['same dir rear end', 'unknown', 'no apparent injury',\n",
       "       'not distracted', 'sixoclock', 'stopped in traffic lane'],\n",
       "      dtype=object)"
      ]
     },
     "execution_count": 169,
     "metadata": {},
     "output_type": "execute_result"
    }
   ],
   "source": [
    "X[0]"
   ]
  },
  {
   "cell_type": "code",
   "execution_count": 168,
   "metadata": {},
   "outputs": [
    {
     "ename": "TypeError",
     "evalue": "OneHotEncoder.__init__() takes 1 positional argument but 2 were given",
     "output_type": "error",
     "traceback": [
      "\u001b[1;31m---------------------------------------------------------------------------\u001b[0m",
      "\u001b[1;31mTypeError\u001b[0m                                 Traceback (most recent call last)",
      "Cell \u001b[1;32mIn[168], line 1\u001b[0m\n\u001b[1;32m----> 1\u001b[0m \u001b[43mOneHotEncoder\u001b[49m\u001b[43m(\u001b[49m\u001b[43mX\u001b[49m\u001b[43m[\u001b[49m\u001b[38;5;241;43m0\u001b[39;49m\u001b[43m]\u001b[49m\u001b[43m[\u001b[49m\u001b[38;5;241;43m0\u001b[39;49m\u001b[43m]\u001b[49m\u001b[43m)\u001b[49m\n",
      "\u001b[1;31mTypeError\u001b[0m: OneHotEncoder.__init__() takes 1 positional argument but 2 were given"
     ]
    }
   ],
   "source": [
    "OneHotEncoder(X[0][0])"
   ]
  },
  {
   "cell_type": "code",
   "execution_count": 159,
   "metadata": {},
   "outputs": [],
   "source": [
    "pipeline = Pipeline([\n",
    "    ('preprocess', preprocessor),\n",
    "    ('model', CategoricalNB())\n",
    "])"
   ]
  },
  {
   "cell_type": "code",
   "execution_count": 160,
   "metadata": {},
   "outputs": [],
   "source": [
    "encoder = OneHotEncoder()\n",
    "Y = Y.reshape(-1, 1)\n",
    "Y = encoder.fit_transform(Y).toarray()"
   ]
  },
  {
   "cell_type": "code",
   "execution_count": 170,
   "metadata": {},
   "outputs": [
    {
     "ename": "AttributeError",
     "evalue": "'numpy.ndarray' object has no attribute 'toarray'",
     "output_type": "error",
     "traceback": [
      "\u001b[1;31m---------------------------------------------------------------------------\u001b[0m",
      "\u001b[1;31mAttributeError\u001b[0m                            Traceback (most recent call last)",
      "Cell \u001b[1;32mIn[170], line 1\u001b[0m\n\u001b[1;32m----> 1\u001b[0m X \u001b[38;5;241m=\u001b[39m \u001b[43mX\u001b[49m\u001b[38;5;241;43m.\u001b[39;49m\u001b[43mtoarray\u001b[49m()\n",
      "\u001b[1;31mAttributeError\u001b[0m: 'numpy.ndarray' object has no attribute 'toarray'"
     ]
    }
   ],
   "source": [
    "X = X.toarray()"
   ]
  },
  {
   "cell_type": "code",
   "execution_count": 161,
   "metadata": {},
   "outputs": [
    {
     "data": {
      "text/plain": [
       "array([[1., 0.],\n",
       "       [0., 1.],\n",
       "       [1., 0.],\n",
       "       ...,\n",
       "       [0., 1.],\n",
       "       [1., 0.],\n",
       "       [1., 0.]])"
      ]
     },
     "execution_count": 161,
     "metadata": {},
     "output_type": "execute_result"
    }
   ],
   "source": [
    "Y"
   ]
  },
  {
   "cell_type": "code",
   "execution_count": 164,
   "metadata": {},
   "outputs": [
    {
     "data": {
      "text/plain": [
       "array([['same dir rear end', 'unknown', 'no apparent injury',\n",
       "        'not distracted', 'sixoclock', 'stopped in traffic lane'],\n",
       "       ['same dir rear end', 'alcohol present', 'no apparent injury',\n",
       "        'other action (looking away from task, etc.)', 'twelveoclock',\n",
       "        'slowing or stopping'],\n",
       "       ['same dir rear end', 'none detected', 'no apparent injury',\n",
       "        'not distracted', 'sixoclock', 'making left turn'],\n",
       "       ...,\n",
       "       ['single vehicle', 'unknown', 'possible injury', 'unknown',\n",
       "        'underside', 'moving constant speed'],\n",
       "       ['rear to side', 'none detected', 'no apparent injury',\n",
       "        'not distracted', 'elevenoclock', 'moving constant speed'],\n",
       "       ['rear to side', 'none detected', 'no apparent injury',\n",
       "        'not distracted', 'oneoclock', 'accelerating']], dtype=object)"
      ]
     },
     "execution_count": 164,
     "metadata": {},
     "output_type": "execute_result"
    }
   ],
   "source": [
    "X"
   ]
  },
  {
   "cell_type": "code",
   "execution_count": 162,
   "metadata": {},
   "outputs": [],
   "source": [
    "\n",
    "from sklearn.model_selection import train_test_split\n",
    "X_train, X_test, y_train, y_test = train_test_split(\n",
    "    X, Y, test_size=0.33, random_state=42)"
   ]
  },
  {
   "cell_type": "code",
   "execution_count": 163,
   "metadata": {},
   "outputs": [
    {
     "ename": "TypeError",
     "evalue": "Sparse data was passed for X, but dense data is required. Use '.toarray()' to convert to a dense numpy array.",
     "output_type": "error",
     "traceback": [
      "\u001b[1;31m---------------------------------------------------------------------------\u001b[0m",
      "\u001b[1;31mTypeError\u001b[0m                                 Traceback (most recent call last)",
      "Cell \u001b[1;32mIn[163], line 1\u001b[0m\n\u001b[1;32m----> 1\u001b[0m \u001b[43mpipeline\u001b[49m\u001b[38;5;241;43m.\u001b[39;49m\u001b[43mfit\u001b[49m\u001b[43m(\u001b[49m\u001b[43mX_train\u001b[49m\u001b[43m,\u001b[49m\u001b[43m \u001b[49m\u001b[43my_train\u001b[49m\u001b[43m)\u001b[49m\n",
      "File \u001b[1;32m~\\AppData\\Local\\Packages\\PythonSoftwareFoundation.Python.3.11_qbz5n2kfra8p0\\LocalCache\\local-packages\\Python311\\site-packages\\sklearn\\base.py:1473\u001b[0m, in \u001b[0;36m_fit_context.<locals>.decorator.<locals>.wrapper\u001b[1;34m(estimator, *args, **kwargs)\u001b[0m\n\u001b[0;32m   1466\u001b[0m     estimator\u001b[38;5;241m.\u001b[39m_validate_params()\n\u001b[0;32m   1468\u001b[0m \u001b[38;5;28;01mwith\u001b[39;00m config_context(\n\u001b[0;32m   1469\u001b[0m     skip_parameter_validation\u001b[38;5;241m=\u001b[39m(\n\u001b[0;32m   1470\u001b[0m         prefer_skip_nested_validation \u001b[38;5;129;01mor\u001b[39;00m global_skip_validation\n\u001b[0;32m   1471\u001b[0m     )\n\u001b[0;32m   1472\u001b[0m ):\n\u001b[1;32m-> 1473\u001b[0m     \u001b[38;5;28;01mreturn\u001b[39;00m \u001b[43mfit_method\u001b[49m\u001b[43m(\u001b[49m\u001b[43mestimator\u001b[49m\u001b[43m,\u001b[49m\u001b[43m \u001b[49m\u001b[38;5;241;43m*\u001b[39;49m\u001b[43margs\u001b[49m\u001b[43m,\u001b[49m\u001b[43m \u001b[49m\u001b[38;5;241;43m*\u001b[39;49m\u001b[38;5;241;43m*\u001b[39;49m\u001b[43mkwargs\u001b[49m\u001b[43m)\u001b[49m\n",
      "File \u001b[1;32m~\\AppData\\Local\\Packages\\PythonSoftwareFoundation.Python.3.11_qbz5n2kfra8p0\\LocalCache\\local-packages\\Python311\\site-packages\\sklearn\\pipeline.py:473\u001b[0m, in \u001b[0;36mPipeline.fit\u001b[1;34m(self, X, y, **params)\u001b[0m\n\u001b[0;32m    471\u001b[0m     \u001b[38;5;28;01mif\u001b[39;00m \u001b[38;5;28mself\u001b[39m\u001b[38;5;241m.\u001b[39m_final_estimator \u001b[38;5;241m!=\u001b[39m \u001b[38;5;124m\"\u001b[39m\u001b[38;5;124mpassthrough\u001b[39m\u001b[38;5;124m\"\u001b[39m:\n\u001b[0;32m    472\u001b[0m         last_step_params \u001b[38;5;241m=\u001b[39m routed_params[\u001b[38;5;28mself\u001b[39m\u001b[38;5;241m.\u001b[39msteps[\u001b[38;5;241m-\u001b[39m\u001b[38;5;241m1\u001b[39m][\u001b[38;5;241m0\u001b[39m]]\n\u001b[1;32m--> 473\u001b[0m         \u001b[38;5;28;43mself\u001b[39;49m\u001b[38;5;241;43m.\u001b[39;49m\u001b[43m_final_estimator\u001b[49m\u001b[38;5;241;43m.\u001b[39;49m\u001b[43mfit\u001b[49m\u001b[43m(\u001b[49m\u001b[43mXt\u001b[49m\u001b[43m,\u001b[49m\u001b[43m \u001b[49m\u001b[43my\u001b[49m\u001b[43m,\u001b[49m\u001b[43m \u001b[49m\u001b[38;5;241;43m*\u001b[39;49m\u001b[38;5;241;43m*\u001b[39;49m\u001b[43mlast_step_params\u001b[49m\u001b[43m[\u001b[49m\u001b[38;5;124;43m\"\u001b[39;49m\u001b[38;5;124;43mfit\u001b[39;49m\u001b[38;5;124;43m\"\u001b[39;49m\u001b[43m]\u001b[49m\u001b[43m)\u001b[49m\n\u001b[0;32m    475\u001b[0m \u001b[38;5;28;01mreturn\u001b[39;00m \u001b[38;5;28mself\u001b[39m\n",
      "File \u001b[1;32m~\\AppData\\Local\\Packages\\PythonSoftwareFoundation.Python.3.11_qbz5n2kfra8p0\\LocalCache\\local-packages\\Python311\\site-packages\\sklearn\\naive_bayes.py:1378\u001b[0m, in \u001b[0;36mCategoricalNB.fit\u001b[1;34m(self, X, y, sample_weight)\u001b[0m\n\u001b[0;32m   1353\u001b[0m \u001b[38;5;28;01mdef\u001b[39;00m \u001b[38;5;21mfit\u001b[39m(\u001b[38;5;28mself\u001b[39m, X, y, sample_weight\u001b[38;5;241m=\u001b[39m\u001b[38;5;28;01mNone\u001b[39;00m):\n\u001b[0;32m   1354\u001b[0m \u001b[38;5;250m    \u001b[39m\u001b[38;5;124;03m\"\"\"Fit Naive Bayes classifier according to X, y.\u001b[39;00m\n\u001b[0;32m   1355\u001b[0m \n\u001b[0;32m   1356\u001b[0m \u001b[38;5;124;03m    Parameters\u001b[39;00m\n\u001b[1;32m   (...)\u001b[0m\n\u001b[0;32m   1376\u001b[0m \u001b[38;5;124;03m        Returns the instance itself.\u001b[39;00m\n\u001b[0;32m   1377\u001b[0m \u001b[38;5;124;03m    \"\"\"\u001b[39;00m\n\u001b[1;32m-> 1378\u001b[0m     \u001b[38;5;28;01mreturn\u001b[39;00m \u001b[38;5;28;43msuper\u001b[39;49m\u001b[43m(\u001b[49m\u001b[43m)\u001b[49m\u001b[38;5;241;43m.\u001b[39;49m\u001b[43mfit\u001b[49m\u001b[43m(\u001b[49m\u001b[43mX\u001b[49m\u001b[43m,\u001b[49m\u001b[43m \u001b[49m\u001b[43my\u001b[49m\u001b[43m,\u001b[49m\u001b[43m \u001b[49m\u001b[43msample_weight\u001b[49m\u001b[38;5;241;43m=\u001b[39;49m\u001b[43msample_weight\u001b[49m\u001b[43m)\u001b[49m\n",
      "File \u001b[1;32m~\\AppData\\Local\\Packages\\PythonSoftwareFoundation.Python.3.11_qbz5n2kfra8p0\\LocalCache\\local-packages\\Python311\\site-packages\\sklearn\\base.py:1473\u001b[0m, in \u001b[0;36m_fit_context.<locals>.decorator.<locals>.wrapper\u001b[1;34m(estimator, *args, **kwargs)\u001b[0m\n\u001b[0;32m   1466\u001b[0m     estimator\u001b[38;5;241m.\u001b[39m_validate_params()\n\u001b[0;32m   1468\u001b[0m \u001b[38;5;28;01mwith\u001b[39;00m config_context(\n\u001b[0;32m   1469\u001b[0m     skip_parameter_validation\u001b[38;5;241m=\u001b[39m(\n\u001b[0;32m   1470\u001b[0m         prefer_skip_nested_validation \u001b[38;5;129;01mor\u001b[39;00m global_skip_validation\n\u001b[0;32m   1471\u001b[0m     )\n\u001b[0;32m   1472\u001b[0m ):\n\u001b[1;32m-> 1473\u001b[0m     \u001b[38;5;28;01mreturn\u001b[39;00m \u001b[43mfit_method\u001b[49m\u001b[43m(\u001b[49m\u001b[43mestimator\u001b[49m\u001b[43m,\u001b[49m\u001b[43m \u001b[49m\u001b[38;5;241;43m*\u001b[39;49m\u001b[43margs\u001b[49m\u001b[43m,\u001b[49m\u001b[43m \u001b[49m\u001b[38;5;241;43m*\u001b[39;49m\u001b[38;5;241;43m*\u001b[39;49m\u001b[43mkwargs\u001b[49m\u001b[43m)\u001b[49m\n",
      "File \u001b[1;32m~\\AppData\\Local\\Packages\\PythonSoftwareFoundation.Python.3.11_qbz5n2kfra8p0\\LocalCache\\local-packages\\Python311\\site-packages\\sklearn\\naive_bayes.py:732\u001b[0m, in \u001b[0;36m_BaseDiscreteNB.fit\u001b[1;34m(self, X, y, sample_weight)\u001b[0m\n\u001b[0;32m    711\u001b[0m \u001b[38;5;129m@_fit_context\u001b[39m(prefer_skip_nested_validation\u001b[38;5;241m=\u001b[39m\u001b[38;5;28;01mTrue\u001b[39;00m)\n\u001b[0;32m    712\u001b[0m \u001b[38;5;28;01mdef\u001b[39;00m \u001b[38;5;21mfit\u001b[39m(\u001b[38;5;28mself\u001b[39m, X, y, sample_weight\u001b[38;5;241m=\u001b[39m\u001b[38;5;28;01mNone\u001b[39;00m):\n\u001b[0;32m    713\u001b[0m \u001b[38;5;250m    \u001b[39m\u001b[38;5;124;03m\"\"\"Fit Naive Bayes classifier according to X, y.\u001b[39;00m\n\u001b[0;32m    714\u001b[0m \n\u001b[0;32m    715\u001b[0m \u001b[38;5;124;03m    Parameters\u001b[39;00m\n\u001b[1;32m   (...)\u001b[0m\n\u001b[0;32m    730\u001b[0m \u001b[38;5;124;03m        Returns the instance itself.\u001b[39;00m\n\u001b[0;32m    731\u001b[0m \u001b[38;5;124;03m    \"\"\"\u001b[39;00m\n\u001b[1;32m--> 732\u001b[0m     X, y \u001b[38;5;241m=\u001b[39m \u001b[38;5;28;43mself\u001b[39;49m\u001b[38;5;241;43m.\u001b[39;49m\u001b[43m_check_X_y\u001b[49m\u001b[43m(\u001b[49m\u001b[43mX\u001b[49m\u001b[43m,\u001b[49m\u001b[43m \u001b[49m\u001b[43my\u001b[49m\u001b[43m)\u001b[49m\n\u001b[0;32m    733\u001b[0m     _, n_features \u001b[38;5;241m=\u001b[39m X\u001b[38;5;241m.\u001b[39mshape\n\u001b[0;32m    735\u001b[0m     labelbin \u001b[38;5;241m=\u001b[39m LabelBinarizer()\n",
      "File \u001b[1;32m~\\AppData\\Local\\Packages\\PythonSoftwareFoundation.Python.3.11_qbz5n2kfra8p0\\LocalCache\\local-packages\\Python311\\site-packages\\sklearn\\naive_bayes.py:1436\u001b[0m, in \u001b[0;36mCategoricalNB._check_X_y\u001b[1;34m(self, X, y, reset)\u001b[0m\n\u001b[0;32m   1435\u001b[0m \u001b[38;5;28;01mdef\u001b[39;00m \u001b[38;5;21m_check_X_y\u001b[39m(\u001b[38;5;28mself\u001b[39m, X, y, reset\u001b[38;5;241m=\u001b[39m\u001b[38;5;28;01mTrue\u001b[39;00m):\n\u001b[1;32m-> 1436\u001b[0m     X, y \u001b[38;5;241m=\u001b[39m \u001b[38;5;28;43mself\u001b[39;49m\u001b[38;5;241;43m.\u001b[39;49m\u001b[43m_validate_data\u001b[49m\u001b[43m(\u001b[49m\n\u001b[0;32m   1437\u001b[0m \u001b[43m        \u001b[49m\u001b[43mX\u001b[49m\u001b[43m,\u001b[49m\u001b[43m \u001b[49m\u001b[43my\u001b[49m\u001b[43m,\u001b[49m\u001b[43m \u001b[49m\u001b[43mdtype\u001b[49m\u001b[38;5;241;43m=\u001b[39;49m\u001b[38;5;124;43m\"\u001b[39;49m\u001b[38;5;124;43mint\u001b[39;49m\u001b[38;5;124;43m\"\u001b[39;49m\u001b[43m,\u001b[49m\u001b[43m \u001b[49m\u001b[43maccept_sparse\u001b[49m\u001b[38;5;241;43m=\u001b[39;49m\u001b[38;5;28;43;01mFalse\u001b[39;49;00m\u001b[43m,\u001b[49m\u001b[43m \u001b[49m\u001b[43mforce_all_finite\u001b[49m\u001b[38;5;241;43m=\u001b[39;49m\u001b[38;5;28;43;01mTrue\u001b[39;49;00m\u001b[43m,\u001b[49m\u001b[43m \u001b[49m\u001b[43mreset\u001b[49m\u001b[38;5;241;43m=\u001b[39;49m\u001b[43mreset\u001b[49m\n\u001b[0;32m   1438\u001b[0m \u001b[43m    \u001b[49m\u001b[43m)\u001b[49m\n\u001b[0;32m   1439\u001b[0m     check_non_negative(X, \u001b[38;5;124m\"\u001b[39m\u001b[38;5;124mCategoricalNB (input X)\u001b[39m\u001b[38;5;124m\"\u001b[39m)\n\u001b[0;32m   1440\u001b[0m     \u001b[38;5;28;01mreturn\u001b[39;00m X, y\n",
      "File \u001b[1;32m~\\AppData\\Local\\Packages\\PythonSoftwareFoundation.Python.3.11_qbz5n2kfra8p0\\LocalCache\\local-packages\\Python311\\site-packages\\sklearn\\base.py:650\u001b[0m, in \u001b[0;36mBaseEstimator._validate_data\u001b[1;34m(self, X, y, reset, validate_separately, cast_to_ndarray, **check_params)\u001b[0m\n\u001b[0;32m    648\u001b[0m         y \u001b[38;5;241m=\u001b[39m check_array(y, input_name\u001b[38;5;241m=\u001b[39m\u001b[38;5;124m\"\u001b[39m\u001b[38;5;124my\u001b[39m\u001b[38;5;124m\"\u001b[39m, \u001b[38;5;241m*\u001b[39m\u001b[38;5;241m*\u001b[39mcheck_y_params)\n\u001b[0;32m    649\u001b[0m     \u001b[38;5;28;01melse\u001b[39;00m:\n\u001b[1;32m--> 650\u001b[0m         X, y \u001b[38;5;241m=\u001b[39m \u001b[43mcheck_X_y\u001b[49m\u001b[43m(\u001b[49m\u001b[43mX\u001b[49m\u001b[43m,\u001b[49m\u001b[43m \u001b[49m\u001b[43my\u001b[49m\u001b[43m,\u001b[49m\u001b[43m \u001b[49m\u001b[38;5;241;43m*\u001b[39;49m\u001b[38;5;241;43m*\u001b[39;49m\u001b[43mcheck_params\u001b[49m\u001b[43m)\u001b[49m\n\u001b[0;32m    651\u001b[0m     out \u001b[38;5;241m=\u001b[39m X, y\n\u001b[0;32m    653\u001b[0m \u001b[38;5;28;01mif\u001b[39;00m \u001b[38;5;129;01mnot\u001b[39;00m no_val_X \u001b[38;5;129;01mand\u001b[39;00m check_params\u001b[38;5;241m.\u001b[39mget(\u001b[38;5;124m\"\u001b[39m\u001b[38;5;124mensure_2d\u001b[39m\u001b[38;5;124m\"\u001b[39m, \u001b[38;5;28;01mTrue\u001b[39;00m):\n",
      "File \u001b[1;32m~\\AppData\\Local\\Packages\\PythonSoftwareFoundation.Python.3.11_qbz5n2kfra8p0\\LocalCache\\local-packages\\Python311\\site-packages\\sklearn\\utils\\validation.py:1301\u001b[0m, in \u001b[0;36mcheck_X_y\u001b[1;34m(X, y, accept_sparse, accept_large_sparse, dtype, order, copy, force_writeable, force_all_finite, ensure_2d, allow_nd, multi_output, ensure_min_samples, ensure_min_features, y_numeric, estimator)\u001b[0m\n\u001b[0;32m   1296\u001b[0m         estimator_name \u001b[38;5;241m=\u001b[39m _check_estimator_name(estimator)\n\u001b[0;32m   1297\u001b[0m     \u001b[38;5;28;01mraise\u001b[39;00m \u001b[38;5;167;01mValueError\u001b[39;00m(\n\u001b[0;32m   1298\u001b[0m         \u001b[38;5;124mf\u001b[39m\u001b[38;5;124m\"\u001b[39m\u001b[38;5;132;01m{\u001b[39;00mestimator_name\u001b[38;5;132;01m}\u001b[39;00m\u001b[38;5;124m requires y to be passed, but the target y is None\u001b[39m\u001b[38;5;124m\"\u001b[39m\n\u001b[0;32m   1299\u001b[0m     )\n\u001b[1;32m-> 1301\u001b[0m X \u001b[38;5;241m=\u001b[39m \u001b[43mcheck_array\u001b[49m\u001b[43m(\u001b[49m\n\u001b[0;32m   1302\u001b[0m \u001b[43m    \u001b[49m\u001b[43mX\u001b[49m\u001b[43m,\u001b[49m\n\u001b[0;32m   1303\u001b[0m \u001b[43m    \u001b[49m\u001b[43maccept_sparse\u001b[49m\u001b[38;5;241;43m=\u001b[39;49m\u001b[43maccept_sparse\u001b[49m\u001b[43m,\u001b[49m\n\u001b[0;32m   1304\u001b[0m \u001b[43m    \u001b[49m\u001b[43maccept_large_sparse\u001b[49m\u001b[38;5;241;43m=\u001b[39;49m\u001b[43maccept_large_sparse\u001b[49m\u001b[43m,\u001b[49m\n\u001b[0;32m   1305\u001b[0m \u001b[43m    \u001b[49m\u001b[43mdtype\u001b[49m\u001b[38;5;241;43m=\u001b[39;49m\u001b[43mdtype\u001b[49m\u001b[43m,\u001b[49m\n\u001b[0;32m   1306\u001b[0m \u001b[43m    \u001b[49m\u001b[43morder\u001b[49m\u001b[38;5;241;43m=\u001b[39;49m\u001b[43morder\u001b[49m\u001b[43m,\u001b[49m\n\u001b[0;32m   1307\u001b[0m \u001b[43m    \u001b[49m\u001b[43mcopy\u001b[49m\u001b[38;5;241;43m=\u001b[39;49m\u001b[43mcopy\u001b[49m\u001b[43m,\u001b[49m\n\u001b[0;32m   1308\u001b[0m \u001b[43m    \u001b[49m\u001b[43mforce_writeable\u001b[49m\u001b[38;5;241;43m=\u001b[39;49m\u001b[43mforce_writeable\u001b[49m\u001b[43m,\u001b[49m\n\u001b[0;32m   1309\u001b[0m \u001b[43m    \u001b[49m\u001b[43mforce_all_finite\u001b[49m\u001b[38;5;241;43m=\u001b[39;49m\u001b[43mforce_all_finite\u001b[49m\u001b[43m,\u001b[49m\n\u001b[0;32m   1310\u001b[0m \u001b[43m    \u001b[49m\u001b[43mensure_2d\u001b[49m\u001b[38;5;241;43m=\u001b[39;49m\u001b[43mensure_2d\u001b[49m\u001b[43m,\u001b[49m\n\u001b[0;32m   1311\u001b[0m \u001b[43m    \u001b[49m\u001b[43mallow_nd\u001b[49m\u001b[38;5;241;43m=\u001b[39;49m\u001b[43mallow_nd\u001b[49m\u001b[43m,\u001b[49m\n\u001b[0;32m   1312\u001b[0m \u001b[43m    \u001b[49m\u001b[43mensure_min_samples\u001b[49m\u001b[38;5;241;43m=\u001b[39;49m\u001b[43mensure_min_samples\u001b[49m\u001b[43m,\u001b[49m\n\u001b[0;32m   1313\u001b[0m \u001b[43m    \u001b[49m\u001b[43mensure_min_features\u001b[49m\u001b[38;5;241;43m=\u001b[39;49m\u001b[43mensure_min_features\u001b[49m\u001b[43m,\u001b[49m\n\u001b[0;32m   1314\u001b[0m \u001b[43m    \u001b[49m\u001b[43mestimator\u001b[49m\u001b[38;5;241;43m=\u001b[39;49m\u001b[43mestimator\u001b[49m\u001b[43m,\u001b[49m\n\u001b[0;32m   1315\u001b[0m \u001b[43m    \u001b[49m\u001b[43minput_name\u001b[49m\u001b[38;5;241;43m=\u001b[39;49m\u001b[38;5;124;43m\"\u001b[39;49m\u001b[38;5;124;43mX\u001b[39;49m\u001b[38;5;124;43m\"\u001b[39;49m\u001b[43m,\u001b[49m\n\u001b[0;32m   1316\u001b[0m \u001b[43m\u001b[49m\u001b[43m)\u001b[49m\n\u001b[0;32m   1318\u001b[0m y \u001b[38;5;241m=\u001b[39m _check_y(y, multi_output\u001b[38;5;241m=\u001b[39mmulti_output, y_numeric\u001b[38;5;241m=\u001b[39my_numeric, estimator\u001b[38;5;241m=\u001b[39mestimator)\n\u001b[0;32m   1320\u001b[0m check_consistent_length(X, y)\n",
      "File \u001b[1;32m~\\AppData\\Local\\Packages\\PythonSoftwareFoundation.Python.3.11_qbz5n2kfra8p0\\LocalCache\\local-packages\\Python311\\site-packages\\sklearn\\utils\\validation.py:971\u001b[0m, in \u001b[0;36mcheck_array\u001b[1;34m(array, accept_sparse, accept_large_sparse, dtype, order, copy, force_writeable, force_all_finite, ensure_2d, allow_nd, ensure_min_samples, ensure_min_features, estimator, input_name)\u001b[0m\n\u001b[0;32m    969\u001b[0m \u001b[38;5;28;01mif\u001b[39;00m sp\u001b[38;5;241m.\u001b[39missparse(array):\n\u001b[0;32m    970\u001b[0m     _ensure_no_complex_data(array)\n\u001b[1;32m--> 971\u001b[0m     array \u001b[38;5;241m=\u001b[39m \u001b[43m_ensure_sparse_format\u001b[49m\u001b[43m(\u001b[49m\n\u001b[0;32m    972\u001b[0m \u001b[43m        \u001b[49m\u001b[43marray\u001b[49m\u001b[43m,\u001b[49m\n\u001b[0;32m    973\u001b[0m \u001b[43m        \u001b[49m\u001b[43maccept_sparse\u001b[49m\u001b[38;5;241;43m=\u001b[39;49m\u001b[43maccept_sparse\u001b[49m\u001b[43m,\u001b[49m\n\u001b[0;32m    974\u001b[0m \u001b[43m        \u001b[49m\u001b[43mdtype\u001b[49m\u001b[38;5;241;43m=\u001b[39;49m\u001b[43mdtype\u001b[49m\u001b[43m,\u001b[49m\n\u001b[0;32m    975\u001b[0m \u001b[43m        \u001b[49m\u001b[43mcopy\u001b[49m\u001b[38;5;241;43m=\u001b[39;49m\u001b[43mcopy\u001b[49m\u001b[43m,\u001b[49m\n\u001b[0;32m    976\u001b[0m \u001b[43m        \u001b[49m\u001b[43mforce_all_finite\u001b[49m\u001b[38;5;241;43m=\u001b[39;49m\u001b[43mforce_all_finite\u001b[49m\u001b[43m,\u001b[49m\n\u001b[0;32m    977\u001b[0m \u001b[43m        \u001b[49m\u001b[43maccept_large_sparse\u001b[49m\u001b[38;5;241;43m=\u001b[39;49m\u001b[43maccept_large_sparse\u001b[49m\u001b[43m,\u001b[49m\n\u001b[0;32m    978\u001b[0m \u001b[43m        \u001b[49m\u001b[43mestimator_name\u001b[49m\u001b[38;5;241;43m=\u001b[39;49m\u001b[43mestimator_name\u001b[49m\u001b[43m,\u001b[49m\n\u001b[0;32m    979\u001b[0m \u001b[43m        \u001b[49m\u001b[43minput_name\u001b[49m\u001b[38;5;241;43m=\u001b[39;49m\u001b[43minput_name\u001b[49m\u001b[43m,\u001b[49m\n\u001b[0;32m    980\u001b[0m \u001b[43m    \u001b[49m\u001b[43m)\u001b[49m\n\u001b[0;32m    981\u001b[0m     \u001b[38;5;28;01mif\u001b[39;00m ensure_2d \u001b[38;5;129;01mand\u001b[39;00m array\u001b[38;5;241m.\u001b[39mndim \u001b[38;5;241m<\u001b[39m \u001b[38;5;241m2\u001b[39m:\n\u001b[0;32m    982\u001b[0m         \u001b[38;5;28;01mraise\u001b[39;00m \u001b[38;5;167;01mValueError\u001b[39;00m(\n\u001b[0;32m    983\u001b[0m             \u001b[38;5;124mf\u001b[39m\u001b[38;5;124m\"\u001b[39m\u001b[38;5;124mExpected 2D input, got input with shape \u001b[39m\u001b[38;5;132;01m{\u001b[39;00marray\u001b[38;5;241m.\u001b[39mshape\u001b[38;5;132;01m}\u001b[39;00m\u001b[38;5;124m.\u001b[39m\u001b[38;5;130;01m\\n\u001b[39;00m\u001b[38;5;124m\"\u001b[39m\n\u001b[0;32m    984\u001b[0m             \u001b[38;5;124m\"\u001b[39m\u001b[38;5;124mReshape your data either using array.reshape(-1, 1) if \u001b[39m\u001b[38;5;124m\"\u001b[39m\n\u001b[0;32m    985\u001b[0m             \u001b[38;5;124m\"\u001b[39m\u001b[38;5;124myour data has a single feature or array.reshape(1, -1) \u001b[39m\u001b[38;5;124m\"\u001b[39m\n\u001b[0;32m    986\u001b[0m             \u001b[38;5;124m\"\u001b[39m\u001b[38;5;124mif it contains a single sample.\u001b[39m\u001b[38;5;124m\"\u001b[39m\n\u001b[0;32m    987\u001b[0m         )\n",
      "File \u001b[1;32m~\\AppData\\Local\\Packages\\PythonSoftwareFoundation.Python.3.11_qbz5n2kfra8p0\\LocalCache\\local-packages\\Python311\\site-packages\\sklearn\\utils\\validation.py:595\u001b[0m, in \u001b[0;36m_ensure_sparse_format\u001b[1;34m(sparse_container, accept_sparse, dtype, copy, force_all_finite, accept_large_sparse, estimator_name, input_name)\u001b[0m\n\u001b[0;32m    593\u001b[0m \u001b[38;5;28;01mif\u001b[39;00m accept_sparse \u001b[38;5;129;01mis\u001b[39;00m \u001b[38;5;28;01mFalse\u001b[39;00m:\n\u001b[0;32m    594\u001b[0m     padded_input \u001b[38;5;241m=\u001b[39m \u001b[38;5;124m\"\u001b[39m\u001b[38;5;124m for \u001b[39m\u001b[38;5;124m\"\u001b[39m \u001b[38;5;241m+\u001b[39m input_name \u001b[38;5;28;01mif\u001b[39;00m input_name \u001b[38;5;28;01melse\u001b[39;00m \u001b[38;5;124m\"\u001b[39m\u001b[38;5;124m\"\u001b[39m\n\u001b[1;32m--> 595\u001b[0m     \u001b[38;5;28;01mraise\u001b[39;00m \u001b[38;5;167;01mTypeError\u001b[39;00m(\n\u001b[0;32m    596\u001b[0m         \u001b[38;5;124mf\u001b[39m\u001b[38;5;124m\"\u001b[39m\u001b[38;5;124mSparse data was passed\u001b[39m\u001b[38;5;132;01m{\u001b[39;00mpadded_input\u001b[38;5;132;01m}\u001b[39;00m\u001b[38;5;124m, but dense data is required. \u001b[39m\u001b[38;5;124m\"\u001b[39m\n\u001b[0;32m    597\u001b[0m         \u001b[38;5;124m\"\u001b[39m\u001b[38;5;124mUse \u001b[39m\u001b[38;5;124m'\u001b[39m\u001b[38;5;124m.toarray()\u001b[39m\u001b[38;5;124m'\u001b[39m\u001b[38;5;124m to convert to a dense numpy array.\u001b[39m\u001b[38;5;124m\"\u001b[39m\n\u001b[0;32m    598\u001b[0m     )\n\u001b[0;32m    599\u001b[0m \u001b[38;5;28;01melif\u001b[39;00m \u001b[38;5;28misinstance\u001b[39m(accept_sparse, (\u001b[38;5;28mlist\u001b[39m, \u001b[38;5;28mtuple\u001b[39m)):\n\u001b[0;32m    600\u001b[0m     \u001b[38;5;28;01mif\u001b[39;00m \u001b[38;5;28mlen\u001b[39m(accept_sparse) \u001b[38;5;241m==\u001b[39m \u001b[38;5;241m0\u001b[39m:\n",
      "\u001b[1;31mTypeError\u001b[0m: Sparse data was passed for X, but dense data is required. Use '.toarray()' to convert to a dense numpy array."
     ]
    }
   ],
   "source": [
    "pipeline.fit(X_train, y_train)"
   ]
  },
  {
   "cell_type": "code",
   "execution_count": null,
   "metadata": {},
   "outputs": [],
   "source": []
  }
 ],
 "metadata": {
  "kernelspec": {
   "display_name": "Python 3",
   "language": "python",
   "name": "python3"
  },
  "language_info": {
   "codemirror_mode": {
    "name": "ipython",
    "version": 3
   },
   "file_extension": ".py",
   "mimetype": "text/x-python",
   "name": "python",
   "nbconvert_exporter": "python",
   "pygments_lexer": "ipython3",
   "version": "3.11.9"
  }
 },
 "nbformat": 4,
 "nbformat_minor": 2
}
