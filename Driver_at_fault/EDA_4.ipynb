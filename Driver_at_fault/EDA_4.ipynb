{
 "cells": [
  {
   "cell_type": "code",
   "execution_count": 17,
   "metadata": {},
   "outputs": [
    {
     "name": "stderr",
     "output_type": "stream",
     "text": [
      "C:\\Users\\shyam\\AppData\\Local\\Temp\\ipykernel_484\\1499786648.py:2: DtypeWarning: Columns (2) have mixed types. Specify dtype option on import or set low_memory=False.\n",
      "  df_raw = pd.read_csv(\"EDA_1.csv\")\n",
      "C:\\Users\\shyam\\AppData\\Local\\Temp\\ipykernel_484\\1499786648.py:5: FutureWarning: DataFrame.applymap has been deprecated. Use DataFrame.map instead.\n",
      "  df_raw=df_raw.applymap(lambda x: str(x).lower() if isinstance(x,str) else x)\n"
     ]
    }
   ],
   "source": [
    "import pandas as pd\n",
    "df_raw = pd.read_csv(\"EDA_1.csv\")\n",
    "\n",
    "# to lower case\n",
    "df_raw=df_raw.applymap(lambda x: str(x).lower() if isinstance(x,str) else x)\n",
    "\n",
    "# remove null values from this column 156 na found\n",
    "df_raw = df_raw[df_raw[\"Vehicle First Impact Location\"].notna()]\n",
    "\n",
    "df_raw = df_raw[df_raw[\"Driver At Fault\"]!=\"unknown\"]\n",
    "\n",
    "df_raw[\"Vehicle First Impact Location\"] = df_raw[\"Vehicle First Impact Location\"].str.replace(\"roof top\", \"top\", regex=True)\n",
    "df_raw[\"Vehicle First Impact Location\"] = df_raw[\"Vehicle First Impact Location\"].str.replace(\" \", \"\", regex=True)\n",
    "\n",
    "df_raw[\"Vehicle Movement\"] = df_raw[\"Vehicle Movement\"].str.replace(\"making u-turn\", \"making u turn\", regex=True)\n",
    "df_raw[\"Vehicle Movement\"] = df_raw[\"Vehicle Movement\"].str.replace(\"parking\", \"parked\", regex=True)"
   ]
  },
  {
   "cell_type": "code",
   "execution_count": 18,
   "metadata": {},
   "outputs": [],
   "source": [
    "df_raw.to_csv(\"EDA_2.csv\")"
   ]
  },
  {
   "cell_type": "code",
   "execution_count": 19,
   "metadata": {},
   "outputs": [
    {
     "data": {
      "text/plain": [
       "Driver Distracted By\n",
       "not distracted                                       113982\n",
       "unknown                                               34256\n",
       "looked but did not see                                21053\n",
       "inattentive or lost in thought                         4301\n",
       "other distraction                                      3216\n",
       "distracted by outside person object or event            950\n",
       "other action (looking away from task, etc.)             459\n",
       "by other occupants                                      414\n",
       "other cellular phone related                            372\n",
       "other electronic device (navigational palm pilot)       324\n",
       "talking or listening to cellular phone                  280\n",
       "no driver present                                       274\n",
       "by moving object in vehicle                             211\n",
       "eating or drinking                                      195\n",
       "adjusting audio and or climate controls                 134\n",
       "using other device controls integral to vehicle          92\n",
       "texting from a cellular phone                            67\n",
       "using device object brought into vehicle                 62\n",
       "dialing cellular phone                                   48\n",
       "talking/listening                                        32\n",
       "smoking related                                          26\n",
       "manually operating (dialing, playing game, etc.)         24\n",
       "Name: count, dtype: int64"
      ]
     },
     "execution_count": 19,
     "metadata": {},
     "output_type": "execute_result"
    }
   ],
   "source": [
    "df_raw[\"Driver Distracted By\"].value_counts()"
   ]
  },
  {
   "cell_type": "code",
   "execution_count": 20,
   "metadata": {},
   "outputs": [],
   "source": [
    "# merge \"other distraction\" and \"other action (looking away from task, etc.)\"\n",
    "# merge \"other cellular phone related\" and \"talking or listening to cellular phone\"\n",
    "# merge \"adjusting audio and or climate controls\" and \"using other device controls integral to vehicle\"\n",
    "\n",
    "df_raw[\"Driver Distracted By\"] = df_raw[\"Driver Distracted By\"].str.replace(\"other distraction\", \"other action (looking away from task, etc.)\", regex=True)\n",
    "df_raw[\"Driver Distracted By\"] = df_raw[\"Driver Distracted By\"].str.replace(\"other cellular phone related\", \"talking or listening to cellular phone\", regex=True)\n",
    "df_raw[\"Driver Distracted By\"] = df_raw[\"Driver Distracted By\"].str.replace(\"adjusting audio and or climate controls\", \"using other device controls integral to vehicle\", regex=True)\n"
   ]
  },
  {
   "cell_type": "code",
   "execution_count": 21,
   "metadata": {},
   "outputs": [
    {
     "data": {
      "text/html": [
       "<div>\n",
       "<style scoped>\n",
       "    .dataframe tbody tr th:only-of-type {\n",
       "        vertical-align: middle;\n",
       "    }\n",
       "\n",
       "    .dataframe tbody tr th {\n",
       "        vertical-align: top;\n",
       "    }\n",
       "\n",
       "    .dataframe thead th {\n",
       "        text-align: right;\n",
       "    }\n",
       "</style>\n",
       "<table border=\"1\" class=\"dataframe\">\n",
       "  <thead>\n",
       "    <tr style=\"text-align: right;\">\n",
       "      <th>Driver At Fault</th>\n",
       "      <th>no</th>\n",
       "      <th>yes</th>\n",
       "      <th>Y_Percentage</th>\n",
       "    </tr>\n",
       "    <tr>\n",
       "      <th>Driver Distracted By</th>\n",
       "      <th></th>\n",
       "      <th></th>\n",
       "      <th></th>\n",
       "    </tr>\n",
       "  </thead>\n",
       "  <tbody>\n",
       "    <tr>\n",
       "      <th>not distracted</th>\n",
       "      <td>78880</td>\n",
       "      <td>35102</td>\n",
       "      <td>0.307961</td>\n",
       "    </tr>\n",
       "    <tr>\n",
       "      <th>unknown</th>\n",
       "      <td>3790</td>\n",
       "      <td>30466</td>\n",
       "      <td>0.889362</td>\n",
       "    </tr>\n",
       "    <tr>\n",
       "      <th>looked but did not see</th>\n",
       "      <td>830</td>\n",
       "      <td>20223</td>\n",
       "      <td>0.960576</td>\n",
       "    </tr>\n",
       "    <tr>\n",
       "      <th>inattentive or lost in thought</th>\n",
       "      <td>31</td>\n",
       "      <td>4270</td>\n",
       "      <td>0.992792</td>\n",
       "    </tr>\n",
       "    <tr>\n",
       "      <th>other action (looking away from task, etc.)</th>\n",
       "      <td>224</td>\n",
       "      <td>3451</td>\n",
       "      <td>0.939048</td>\n",
       "    </tr>\n",
       "    <tr>\n",
       "      <th>distracted by outside person object or event</th>\n",
       "      <td>58</td>\n",
       "      <td>892</td>\n",
       "      <td>0.938947</td>\n",
       "    </tr>\n",
       "    <tr>\n",
       "      <th>talking or listening to cellular phone</th>\n",
       "      <td>10</td>\n",
       "      <td>642</td>\n",
       "      <td>0.984663</td>\n",
       "    </tr>\n",
       "    <tr>\n",
       "      <th>by other occupants</th>\n",
       "      <td>8</td>\n",
       "      <td>406</td>\n",
       "      <td>0.980676</td>\n",
       "    </tr>\n",
       "    <tr>\n",
       "      <th>other electronic device (navigational palm pilot)</th>\n",
       "      <td>5</td>\n",
       "      <td>319</td>\n",
       "      <td>0.984568</td>\n",
       "    </tr>\n",
       "    <tr>\n",
       "      <th>using other device controls integral to vehicle</th>\n",
       "      <td>5</td>\n",
       "      <td>221</td>\n",
       "      <td>0.977876</td>\n",
       "    </tr>\n",
       "    <tr>\n",
       "      <th>by moving object in vehicle</th>\n",
       "      <td>4</td>\n",
       "      <td>207</td>\n",
       "      <td>0.981043</td>\n",
       "    </tr>\n",
       "    <tr>\n",
       "      <th>no driver present</th>\n",
       "      <td>80</td>\n",
       "      <td>194</td>\n",
       "      <td>0.708029</td>\n",
       "    </tr>\n",
       "    <tr>\n",
       "      <th>eating or drinking</th>\n",
       "      <td>3</td>\n",
       "      <td>192</td>\n",
       "      <td>0.984615</td>\n",
       "    </tr>\n",
       "    <tr>\n",
       "      <th>texting from a cellular phone</th>\n",
       "      <td>2</td>\n",
       "      <td>65</td>\n",
       "      <td>0.970149</td>\n",
       "    </tr>\n",
       "    <tr>\n",
       "      <th>using device object brought into vehicle</th>\n",
       "      <td>11</td>\n",
       "      <td>51</td>\n",
       "      <td>0.822581</td>\n",
       "    </tr>\n",
       "    <tr>\n",
       "      <th>dialing cellular phone</th>\n",
       "      <td>1</td>\n",
       "      <td>47</td>\n",
       "      <td>0.979167</td>\n",
       "    </tr>\n",
       "    <tr>\n",
       "      <th>smoking related</th>\n",
       "      <td>0</td>\n",
       "      <td>26</td>\n",
       "      <td>1.000000</td>\n",
       "    </tr>\n",
       "    <tr>\n",
       "      <th>talking/listening</th>\n",
       "      <td>11</td>\n",
       "      <td>21</td>\n",
       "      <td>0.656250</td>\n",
       "    </tr>\n",
       "    <tr>\n",
       "      <th>manually operating (dialing, playing game, etc.)</th>\n",
       "      <td>6</td>\n",
       "      <td>18</td>\n",
       "      <td>0.750000</td>\n",
       "    </tr>\n",
       "  </tbody>\n",
       "</table>\n",
       "</div>"
      ],
      "text/plain": [
       "Driver At Fault                                       no    yes  Y_Percentage\n",
       "Driver Distracted By                                                         \n",
       "not distracted                                     78880  35102      0.307961\n",
       "unknown                                             3790  30466      0.889362\n",
       "looked but did not see                               830  20223      0.960576\n",
       "inattentive or lost in thought                        31   4270      0.992792\n",
       "other action (looking away from task, etc.)          224   3451      0.939048\n",
       "distracted by outside person object or event          58    892      0.938947\n",
       "talking or listening to cellular phone                10    642      0.984663\n",
       "by other occupants                                     8    406      0.980676\n",
       "other electronic device (navigational palm pilot)      5    319      0.984568\n",
       "using other device controls integral to vehicle        5    221      0.977876\n",
       "by moving object in vehicle                            4    207      0.981043\n",
       "no driver present                                     80    194      0.708029\n",
       "eating or drinking                                     3    192      0.984615\n",
       "texting from a cellular phone                          2     65      0.970149\n",
       "using device object brought into vehicle              11     51      0.822581\n",
       "dialing cellular phone                                 1     47      0.979167\n",
       "smoking related                                        0     26      1.000000\n",
       "talking/listening                                     11     21      0.656250\n",
       "manually operating (dialing, playing game, etc.)       6     18      0.750000"
      ]
     },
     "execution_count": 21,
     "metadata": {},
     "output_type": "execute_result"
    }
   ],
   "source": [
    "crosstab_5 = pd.crosstab(df_raw[\"Driver Distracted By\"], df_raw[\"Driver At Fault\"])\n",
    "crosstab_5[\"Y_Percentage\"] = crosstab_5[\"yes\"]/(crosstab_5[\"yes\"]+crosstab_5[\"no\"])\n",
    "crosstab_5.sort_values(by=\"yes\", ascending=False)"
   ]
  },
  {
   "cell_type": "code",
   "execution_count": 27,
   "metadata": {},
   "outputs": [
    {
     "data": {
      "image/png": "[encoded data removed]",
      "text/plain": [
       "<Figure size 640x480 with 1 Axes>"
      ]
     },
     "metadata": {},
     "output_type": "display_data"
    }
   ],
   "source": [
    "import matplotlib.pyplot as plt\n",
    "import numpy as np\n",
    "\n",
    "# Calculate the percentage of \"Yes\" (Guilty) for each state\n",
    "crosstab_5[\"Yes_Percentage\"] = (crosstab_5[\"yes\"] / (crosstab_5[\"yes\"] + crosstab_5[\"no\"])) * 100\n",
    "\n",
    "# Sort by the number of \"Yes\" (Guilty) in descending order\n",
    "crosstab_8 = crosstab_5.sort_values(by=\"yes\", ascending=False)\n",
    "\n",
    "# Select the top 5 states with the most \"Yes\" counts\n",
    "top_5 = crosstab_8.head(5)\n",
    "\n",
    "# Sort the top 5 by 'Yes_Percentage' in descending order\n",
    "top_5 = top_5.sort_values(by=\"Yes_Percentage\", ascending=True)\n",
    "\n",
    "# Prepare data for plotting\n",
    "categories = list(top_5.index)\n",
    "yes_ratios = top_5[\"Yes_Percentage\"]  # Percentages for 'Yes'\n",
    "\n",
    "# Convert categories to positions\n",
    "x_indices = np.arange(len(categories))\n",
    "\n",
    "# Plot\n",
    "plt.barh(x_indices, yes_ratios, color='darkred', label='Guilty (%)')\n",
    "\n",
    "# Adjust x-axis limits to accommodate annotations\n",
    "plt.xlim(0, max(yes_ratios) + 10)  # Add padding to the right\n",
    "\n",
    "# Annotate each bar with its percentage\n",
    "for i, v in enumerate(yes_ratios):\n",
    "    plt.text(v + 1, i, f\"{v:.1f}%\", va='center', fontsize=10, color='black')  # Add text slightly to the right of the bar\n",
    "\n",
    "# Labels and Title\n",
    "plt.yticks(x_indices, categories)\n",
    "plt.xlabel('Chance of being Guilty')\n",
    "plt.title('Driver Guilty Percentage')\n",
    "\n",
    "plt.legend()\n",
    "plt.show()"
   ]
  },
  {
   "cell_type": "code",
   "execution_count": 23,
   "metadata": {},
   "outputs": [
    {
     "data": {
      "text/plain": [
       "Parked Vehicle\n",
       "no     177284\n",
       "yes      2918\n",
       "Name: count, dtype: int64"
      ]
     },
     "execution_count": 23,
     "metadata": {},
     "output_type": "execute_result"
    }
   ],
   "source": [
    "df_raw[\"Parked Vehicle\"].value_counts()"
   ]
  },
  {
   "cell_type": "code",
   "execution_count": 24,
   "metadata": {},
   "outputs": [
    {
     "data": {
      "text/html": [
       "<div>\n",
       "<style scoped>\n",
       "    .dataframe tbody tr th:only-of-type {\n",
       "        vertical-align: middle;\n",
       "    }\n",
       "\n",
       "    .dataframe tbody tr th {\n",
       "        vertical-align: top;\n",
       "    }\n",
       "\n",
       "    .dataframe thead th {\n",
       "        text-align: right;\n",
       "    }\n",
       "</style>\n",
       "<table border=\"1\" class=\"dataframe\">\n",
       "  <thead>\n",
       "    <tr style=\"text-align: right;\">\n",
       "      <th>Driver At Fault</th>\n",
       "      <th>no</th>\n",
       "      <th>yes</th>\n",
       "      <th>Y_Percentage</th>\n",
       "    </tr>\n",
       "    <tr>\n",
       "      <th>Parked Vehicle</th>\n",
       "      <th></th>\n",
       "      <th></th>\n",
       "      <th></th>\n",
       "    </tr>\n",
       "  </thead>\n",
       "  <tbody>\n",
       "    <tr>\n",
       "      <th>no</th>\n",
       "      <td>81050</td>\n",
       "      <td>96234</td>\n",
       "      <td>0.542824</td>\n",
       "    </tr>\n",
       "    <tr>\n",
       "      <th>yes</th>\n",
       "      <td>2703</td>\n",
       "      <td>215</td>\n",
       "      <td>0.073681</td>\n",
       "    </tr>\n",
       "  </tbody>\n",
       "</table>\n",
       "</div>"
      ],
      "text/plain": [
       "Driver At Fault     no    yes  Y_Percentage\n",
       "Parked Vehicle                             \n",
       "no               81050  96234      0.542824\n",
       "yes               2703    215      0.073681"
      ]
     },
     "execution_count": 24,
     "metadata": {},
     "output_type": "execute_result"
    }
   ],
   "source": [
    "crosstab_5 = pd.crosstab(df_raw[\"Parked Vehicle\"], df_raw[\"Driver At Fault\"])\n",
    "crosstab_5[\"Y_Percentage\"] = crosstab_5[\"yes\"]/(crosstab_5[\"yes\"]+crosstab_5[\"no\"])\n",
    "crosstab_5.sort_values(by=\"yes\", ascending=False)"
   ]
  },
  {
   "cell_type": "code",
   "execution_count": 25,
   "metadata": {},
   "outputs": [
    {
     "data": {
      "image/png": "[encoded data removed]",
      "text/plain": [
       "<Figure size 640x480 with 1 Axes>"
      ]
     },
     "metadata": {},
     "output_type": "display_data"
    }
   ],
   "source": [
    "import matplotlib.pyplot as plt\n",
    "import numpy as np\n",
    "\n",
    "# Calculate the percentage of \"Yes\" (Guilty) for each category\n",
    "crosstab_5[\"Yes_Percentage\"] = (crosstab_5[\"yes\"] / (crosstab_5[\"yes\"] + crosstab_5[\"no\"])) * 100\n",
    "\n",
    "# Sort by 'Yes_Percentage' in ascending order\n",
    "crosstab_5 = crosstab_5.sort_values(by=\"yes\", ascending=False)\n",
    "\n",
    "# Prepare data for plotting\n",
    "categories = list(crosstab_5.index)[:9]\n",
    "yes_ratios = crosstab_5[\"Yes_Percentage\"][:9]  # Percentages for 'Yes'\n",
    "\n",
    "# Convert categories to positions\n",
    "x_indices = np.arange(len(categories))\n",
    "\n",
    "# Plot\n",
    "plt.barh(x_indices, yes_ratios, color='darkred', label='Guilty (%)')\n",
    "\n",
    "# Adjust x-axis limits to accommodate annotations\n",
    "plt.xlim(0, max(yes_ratios) + 10)  # Add padding to the right\n",
    "\n",
    "# Annotate each bar with its percentage\n",
    "for i, v in enumerate(yes_ratios):\n",
    "    plt.text(v + 1, i, f\"{v:.1f}%\", va='center', fontsize=10, color='black')  # Add text slightly to the right of the bar\n",
    "\n",
    "# Labels and Title\n",
    "plt.yticks(x_indices, categories)\n",
    "plt.xlabel('Chance of being Guilty')\n",
    "plt.title('Vehicle Movement Driver Guilty Percentage Distribution')\n",
    "\n",
    "plt.legend()\n",
    "plt.show()"
   ]
  },
  {
   "cell_type": "code",
   "execution_count": null,
   "metadata": {},
   "outputs": [],
   "source": []
  },
  {
   "cell_type": "code",
   "execution_count": null,
   "metadata": {},
   "outputs": [],
   "source": []
  },
  {
   "cell_type": "code",
   "execution_count": null,
   "metadata": {},
   "outputs": [],
   "source": []
  }
 ],
 "metadata": {
  "kernelspec": {
   "display_name": "Python 3",
   "language": "python",
   "name": "python3"
  },
  "language_info": {
   "codemirror_mode": {
    "name": "ipython",
    "version": 3
   },
   "file_extension": ".py",
   "mimetype": "text/x-python",
   "name": "python",
   "nbconvert_exporter": "python",
   "pygments_lexer": "ipython3",
   "version": "3.11.9"
  }
 },
 "nbformat": 4,
 "nbformat_minor": 2
}
