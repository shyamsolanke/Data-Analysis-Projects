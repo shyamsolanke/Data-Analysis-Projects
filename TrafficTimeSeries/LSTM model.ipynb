{
 "cells": [
  {
   "cell_type": "code",
   "execution_count": 46,
   "metadata": {},
   "outputs": [],
   "source": [
    "# Importing libaries for LSTM\n",
    "import numpy as np\n",
    "from sklearn.preprocessing import MinMaxScaler\n",
    "from keras.models import Sequential\n",
    "from keras.layers import Dense, LSTM, Dropout\n",
    "from sklearn.metrics import mean_squared_error, mean_absolute_error\n",
    "import pandas as pd\n",
    "import matplotlib.pyplot as plt\n"
   ]
  },
  {
   "cell_type": "code",
   "execution_count": 47,
   "metadata": {},
   "outputs": [],
   "source": [
    "\n",
    "# Load the dataset\n",
    "file_path = 'traffic.csv'\n",
    "df = pd.read_csv(file_path)\n",
    "\n",
    "# Convert the DateTime column to datetime format\n",
    "df['DateTime'] = pd.to_datetime(df['DateTime'], errors='coerce')\n",
    "\n",
    "# Filtering by Junction 1\n",
    "junction = 1\n",
    "df_junction = df[df['Junction'] == junction]\n",
    "\n"
   ]
  },
  {
   "cell_type": "code",
   "execution_count": 48,
   "metadata": {},
   "outputs": [
    {
     "name": "stderr",
     "output_type": "stream",
     "text": [
      "C:\\Users\\shyam\\AppData\\Local\\Temp\\ipykernel_39084\\37746459.py:6: SettingWithCopyWarning: \n",
      "A value is trying to be set on a copy of a slice from a DataFrame.\n",
      "Try using .loc[row_indexer,col_indexer] = value instead\n",
      "\n",
      "See the caveats in the documentation: https://pandas.pydata.org/pandas-docs/stable/user_guide/indexing.html#returning-a-view-versus-a-copy\n",
      "  df_junction['date'] = df_junction['DateTime'].dt.date\n",
      "C:\\Users\\shyam\\AppData\\Local\\Temp\\ipykernel_39084\\37746459.py:7: SettingWithCopyWarning: \n",
      "A value is trying to be set on a copy of a slice from a DataFrame.\n",
      "Try using .loc[row_indexer,col_indexer] = value instead\n",
      "\n",
      "See the caveats in the documentation: https://pandas.pydata.org/pandas-docs/stable/user_guide/indexing.html#returning-a-view-versus-a-copy\n",
      "  df_junction['hour'] = df_junction['DateTime'].dt.hour\n",
      "C:\\Users\\shyam\\AppData\\Local\\Temp\\ipykernel_39084\\37746459.py:8: SettingWithCopyWarning: \n",
      "A value is trying to be set on a copy of a slice from a DataFrame.\n",
      "Try using .loc[row_indexer,col_indexer] = value instead\n",
      "\n",
      "See the caveats in the documentation: https://pandas.pydata.org/pandas-docs/stable/user_guide/indexing.html#returning-a-view-versus-a-copy\n",
      "  df_junction['weekday'] =  df_junction[\"DateTime\"].dt.strftime(\"%A\")\n",
      "C:\\Users\\shyam\\AppData\\Local\\Temp\\ipykernel_39084\\37746459.py:9: SettingWithCopyWarning: \n",
      "A value is trying to be set on a copy of a slice from a DataFrame.\n",
      "Try using .loc[row_indexer,col_indexer] = value instead\n",
      "\n",
      "See the caveats in the documentation: https://pandas.pydata.org/pandas-docs/stable/user_guide/indexing.html#returning-a-view-versus-a-copy\n",
      "  df_junction['month'] = df_junction['DateTime'].dt.month\n",
      "C:\\Users\\shyam\\AppData\\Local\\Temp\\ipykernel_39084\\37746459.py:10: SettingWithCopyWarning: \n",
      "A value is trying to be set on a copy of a slice from a DataFrame.\n",
      "Try using .loc[row_indexer,col_indexer] = value instead\n",
      "\n",
      "See the caveats in the documentation: https://pandas.pydata.org/pandas-docs/stable/user_guide/indexing.html#returning-a-view-versus-a-copy\n",
      "  df_junction['year'] = df_junction['DateTime'].dt.year\n",
      "C:\\Users\\shyam\\AppData\\Local\\Temp\\ipykernel_39084\\37746459.py:11: SettingWithCopyWarning: \n",
      "A value is trying to be set on a copy of a slice from a DataFrame.\n",
      "Try using .loc[row_indexer,col_indexer] = value instead\n",
      "\n",
      "See the caveats in the documentation: https://pandas.pydata.org/pandas-docs/stable/user_guide/indexing.html#returning-a-view-versus-a-copy\n",
      "  df_junction['isholiday'] = df_junction[\"date\"].isin(us_holidays)\n"
     ]
    }
   ],
   "source": [
    "# Adding Holidays column \n",
    "import holidays\n",
    "us_holidays = holidays.US(years=[2015, 2016, 2017])\n",
    "# Extracting Features\n",
    "\n",
    "df_junction['date'] = df_junction['DateTime'].dt.date\n",
    "df_junction['hour'] = df_junction['DateTime'].dt.hour\n",
    "df_junction['weekday'] =  df_junction[\"DateTime\"].dt.strftime(\"%A\")\n",
    "df_junction['month'] = df_junction['DateTime'].dt.month\n",
    "df_junction['year'] = df_junction['DateTime'].dt.year\n",
    "df_junction['isholiday'] = df_junction[\"date\"].isin(us_holidays)"
   ]
  },
  {
   "cell_type": "code",
   "execution_count": 49,
   "metadata": {},
   "outputs": [
    {
     "name": "stderr",
     "output_type": "stream",
     "text": [
      "C:\\Users\\shyam\\AppData\\Local\\Temp\\ipykernel_39084\\3073033300.py:2: SettingWithCopyWarning: \n",
      "A value is trying to be set on a copy of a slice from a DataFrame\n",
      "\n",
      "See the caveats in the documentation: https://pandas.pydata.org/pandas-docs/stable/user_guide/indexing.html#returning-a-view-versus-a-copy\n",
      "  df_junction.drop([\"date\", \"ID\", \"Junction\"], axis=1, inplace=True)\n"
     ]
    }
   ],
   "source": [
    "# Dropping Redundant and identifier columns\n",
    "df_junction.drop([\"date\", \"ID\", \"Junction\"], axis=1, inplace=True)"
   ]
  },
  {
   "cell_type": "code",
   "execution_count": 50,
   "metadata": {},
   "outputs": [],
   "source": [
    "# Set DateTime as the index\n",
    "df_junction.set_index('DateTime', inplace=True)"
   ]
  },
  {
   "cell_type": "code",
   "execution_count": 51,
   "metadata": {},
   "outputs": [
    {
     "name": "stdout",
     "output_type": "stream",
     "text": [
      "<class 'pandas.core.frame.DataFrame'>\n",
      "DatetimeIndex: 14592 entries, 2015-11-01 00:00:00 to 2017-06-30 23:00:00\n",
      "Data columns (total 6 columns):\n",
      " #   Column     Non-Null Count  Dtype \n",
      "---  ------     --------------  ----- \n",
      " 0   Vehicles   14592 non-null  int64 \n",
      " 1   hour       14592 non-null  int32 \n",
      " 2   weekday    14592 non-null  object\n",
      " 3   month      14592 non-null  int32 \n",
      " 4   year       14592 non-null  int32 \n",
      " 5   isholiday  14592 non-null  bool  \n",
      "dtypes: bool(1), int32(3), int64(1), object(1)\n",
      "memory usage: 527.2+ KB\n"
     ]
    }
   ],
   "source": [
    "df_junction.info()"
   ]
  },
  {
   "cell_type": "code",
   "execution_count": 52,
   "metadata": {},
   "outputs": [],
   "source": [
    "# Label Encoding Categorical columns\n",
    "from sklearn.preprocessing import LabelEncoder\n",
    "encoder = LabelEncoder()\n",
    "\n",
    "df_encode = df_junction.copy()\n",
    "\n",
    "for col in df_encode.columns:\n",
    "\tif df_encode[col].dtype in ['O', 'object', 'category', 'bool']:\n",
    "\t\tdf_encode[col]= encoder.fit_transform(df_encode[col])"
   ]
  },
  {
   "cell_type": "code",
   "execution_count": 53,
   "metadata": {},
   "outputs": [
    {
     "data": {
      "text/plain": [
       "array([[  15,    0,    3,   11, 2015,    0],\n",
       "       [  13,    1,    3,   11, 2015,    0],\n",
       "       [  10,    2,    3,   11, 2015,    0],\n",
       "       ...,\n",
       "       [  90,   21,    0,    6, 2017,    0],\n",
       "       [  84,   22,    0,    6, 2017,    0],\n",
       "       [  78,   23,    0,    6, 2017,    0]], dtype=int64)"
      ]
     },
     "execution_count": 53,
     "metadata": {},
     "output_type": "execute_result"
    }
   ],
   "source": [
    "df_encode.values"
   ]
  },
  {
   "cell_type": "code",
   "execution_count": 54,
   "metadata": {},
   "outputs": [],
   "source": [
    "# Resampling dataframe date rather then hours\n",
    "df_daily = df_encode.resample('D').mean(numeric_only=True)\n",
    "\n",
    "# splittting training and test data\n",
    "split_date = '1-Feb-2017'\n",
    "df_train = df_daily.loc[df_daily.index <= split_date].copy()\n",
    "df_test = df_daily.loc[df_daily.index > split_date].copy()"
   ]
  },
  {
   "cell_type": "code",
   "execution_count": 55,
   "metadata": {},
   "outputs": [],
   "source": [
    "\n",
    "# Prepare data for LSTM\n",
    "scaler = MinMaxScaler(feature_range=(0, 1))\n",
    "\n"
   ]
  },
  {
   "cell_type": "code",
   "execution_count": 56,
   "metadata": {},
   "outputs": [],
   "source": [
    "\n",
    "# Scaling the data between 0 and 1\n",
    "train, test = scaler.fit_transform(df_train.values), scaler.fit_transform(df_test.values)\n",
    "\n"
   ]
  },
  {
   "cell_type": "code",
   "execution_count": 57,
   "metadata": {},
   "outputs": [
    {
     "data": {
      "text/html": [
       "<div>\n",
       "<style scoped>\n",
       "    .dataframe tbody tr th:only-of-type {\n",
       "        vertical-align: middle;\n",
       "    }\n",
       "\n",
       "    .dataframe tbody tr th {\n",
       "        vertical-align: top;\n",
       "    }\n",
       "\n",
       "    .dataframe thead th {\n",
       "        text-align: right;\n",
       "    }\n",
       "</style>\n",
       "<table border=\"1\" class=\"dataframe\">\n",
       "  <thead>\n",
       "    <tr style=\"text-align: right;\">\n",
       "      <th></th>\n",
       "      <th>Vehicles</th>\n",
       "      <th>hour</th>\n",
       "      <th>weekday</th>\n",
       "      <th>month</th>\n",
       "      <th>year</th>\n",
       "      <th>isholiday</th>\n",
       "    </tr>\n",
       "    <tr>\n",
       "      <th>DateTime</th>\n",
       "      <th></th>\n",
       "      <th></th>\n",
       "      <th></th>\n",
       "      <th></th>\n",
       "      <th></th>\n",
       "      <th></th>\n",
       "    </tr>\n",
       "  </thead>\n",
       "  <tbody>\n",
       "    <tr>\n",
       "      <th>2015-11-01 00:00:00</th>\n",
       "      <td>15</td>\n",
       "      <td>0</td>\n",
       "      <td>3</td>\n",
       "      <td>11</td>\n",
       "      <td>2015</td>\n",
       "      <td>0</td>\n",
       "    </tr>\n",
       "    <tr>\n",
       "      <th>2015-11-01 01:00:00</th>\n",
       "      <td>13</td>\n",
       "      <td>1</td>\n",
       "      <td>3</td>\n",
       "      <td>11</td>\n",
       "      <td>2015</td>\n",
       "      <td>0</td>\n",
       "    </tr>\n",
       "    <tr>\n",
       "      <th>2015-11-01 02:00:00</th>\n",
       "      <td>10</td>\n",
       "      <td>2</td>\n",
       "      <td>3</td>\n",
       "      <td>11</td>\n",
       "      <td>2015</td>\n",
       "      <td>0</td>\n",
       "    </tr>\n",
       "    <tr>\n",
       "      <th>2015-11-01 03:00:00</th>\n",
       "      <td>7</td>\n",
       "      <td>3</td>\n",
       "      <td>3</td>\n",
       "      <td>11</td>\n",
       "      <td>2015</td>\n",
       "      <td>0</td>\n",
       "    </tr>\n",
       "    <tr>\n",
       "      <th>2015-11-01 04:00:00</th>\n",
       "      <td>9</td>\n",
       "      <td>4</td>\n",
       "      <td>3</td>\n",
       "      <td>11</td>\n",
       "      <td>2015</td>\n",
       "      <td>0</td>\n",
       "    </tr>\n",
       "  </tbody>\n",
       "</table>\n",
       "</div>"
      ],
      "text/plain": [
       "                     Vehicles  hour  weekday  month  year  isholiday\n",
       "DateTime                                                            \n",
       "2015-11-01 00:00:00        15     0        3     11  2015          0\n",
       "2015-11-01 01:00:00        13     1        3     11  2015          0\n",
       "2015-11-01 02:00:00        10     2        3     11  2015          0\n",
       "2015-11-01 03:00:00         7     3        3     11  2015          0\n",
       "2015-11-01 04:00:00         9     4        3     11  2015          0"
      ]
     },
     "execution_count": 57,
     "metadata": {},
     "output_type": "execute_result"
    }
   ],
   "source": [
    "df_encode.head()"
   ]
  },
  {
   "cell_type": "code",
   "execution_count": 58,
   "metadata": {},
   "outputs": [],
   "source": [
    "\n",
    "# Create dataset function\n",
    "def create_dataset(dataset, look_back=1):\n",
    "    X, y = [], []\n",
    "    for i in range(len(dataset) - look_back):\n",
    "        X.append(dataset[i:(i + look_back), :])\n",
    "        y.append(dataset[i + look_back, 0])\n",
    "    return np.array(X), np.array(y)\n",
    "\n",
    "# Each input consists of 24 days before the prediction of next day\n",
    "look_back = 24\n",
    "X_train, y_train = create_dataset(train, look_back)\n",
    "X_test, y_test = create_dataset(test, look_back)\n"
   ]
  },
  {
   "cell_type": "code",
   "execution_count": 59,
   "metadata": {},
   "outputs": [
    {
     "data": {
      "text/plain": [
       "(435, 24, 6)"
      ]
     },
     "execution_count": 59,
     "metadata": {},
     "output_type": "execute_result"
    }
   ],
   "source": [
    "X_train.shape"
   ]
  },
  {
   "cell_type": "code",
   "execution_count": 60,
   "metadata": {},
   "outputs": [],
   "source": [
    "y_train = y_train.reshape(-1,1)\n",
    "y_test = y_test.reshape(-1,1)"
   ]
  },
  {
   "cell_type": "code",
   "execution_count": 61,
   "metadata": {},
   "outputs": [
    {
     "data": {
      "text/plain": [
       "array([[0.65922747, 0.        , 0.66666667, 0.        , 0.        ,\n",
       "        0.        ],\n",
       "       [0.472103  , 0.        , 0.        , 0.        , 0.        ,\n",
       "        0.        ],\n",
       "       [0.12532189, 0.        , 0.33333333, 0.        , 0.        ,\n",
       "        0.        ],\n",
       "       [0.03948498, 0.        , 0.5       , 0.        , 0.        ,\n",
       "        0.        ],\n",
       "       [0.5639485 , 0.        , 0.16666667, 0.        , 0.        ,\n",
       "        0.        ],\n",
       "       [0.54849785, 0.        , 0.83333333, 0.        , 0.        ,\n",
       "        0.        ],\n",
       "       [0.50042918, 0.        , 1.        , 0.        , 0.        ,\n",
       "        0.        ],\n",
       "       [0.5888412 , 0.        , 0.66666667, 0.        , 0.        ,\n",
       "        0.        ],\n",
       "       [0.49098712, 0.        , 0.        , 0.        , 0.        ,\n",
       "        0.        ],\n",
       "       [0.04206009, 0.        , 0.33333333, 0.        , 0.        ,\n",
       "        0.        ],\n",
       "       [0.        , 0.        , 0.5       , 0.        , 0.        ,\n",
       "        0.        ],\n",
       "       [0.84120172, 0.        , 0.16666667, 0.        , 0.        ,\n",
       "        0.        ],\n",
       "       [0.43948498, 0.        , 0.83333333, 0.        , 0.        ,\n",
       "        0.        ],\n",
       "       [0.49184549, 0.        , 1.        , 0.        , 0.        ,\n",
       "        0.        ],\n",
       "       [0.46266094, 0.        , 0.66666667, 0.        , 0.        ,\n",
       "        0.        ],\n",
       "       [0.39399142, 0.        , 0.        , 0.        , 0.        ,\n",
       "        0.        ],\n",
       "       [0.1751073 , 0.        , 0.33333333, 0.        , 0.        ,\n",
       "        0.        ],\n",
       "       [0.07296137, 0.        , 0.5       , 0.        , 0.        ,\n",
       "        0.        ],\n",
       "       [0.59399142, 0.        , 0.16666667, 0.        , 0.        ,\n",
       "        1.        ],\n",
       "       [0.61030043, 0.        , 0.83333333, 0.        , 0.        ,\n",
       "        0.        ],\n",
       "       [0.54935622, 0.        , 1.        , 0.        , 0.        ,\n",
       "        0.        ],\n",
       "       [0.77167382, 0.        , 0.66666667, 0.        , 0.        ,\n",
       "        0.        ],\n",
       "       [0.43948498, 0.        , 0.        , 0.        , 0.        ,\n",
       "        0.        ],\n",
       "       [0.10300429, 0.        , 0.33333333, 0.        , 0.        ,\n",
       "        0.        ]])"
      ]
     },
     "execution_count": 61,
     "metadata": {},
     "output_type": "execute_result"
    }
   ],
   "source": [
    "X_test[0]"
   ]
  },
  {
   "cell_type": "code",
   "execution_count": 62,
   "metadata": {},
   "outputs": [],
   "source": [
    "\n",
    "scaler2 = MinMaxScaler(feature_range=(0, 1))\n",
    "\n",
    "\n",
    "y_train_sample = scaler2.fit_transform(y_train)\n",
    "y_test_sample = scaler2.fit_transform(y_test)"
   ]
  },
  {
   "cell_type": "code",
   "execution_count": 63,
   "metadata": {},
   "outputs": [
    {
     "name": "stdout",
     "output_type": "stream",
     "text": [
      "Epoch 1/100\n",
      "435/435 [==============================] - 7s 7ms/step - loss: 0.0323\n",
      "Epoch 2/100\n",
      "435/435 [==============================] - 3s 7ms/step - loss: 0.0201\n",
      "Epoch 3/100\n",
      "435/435 [==============================] - 3s 7ms/step - loss: 0.0207\n",
      "Epoch 4/100\n",
      "435/435 [==============================] - 3s 7ms/step - loss: 0.0192\n",
      "Epoch 5/100\n",
      "435/435 [==============================] - 3s 7ms/step - loss: 0.0169\n",
      "Epoch 6/100\n",
      "435/435 [==============================] - 3s 7ms/step - loss: 0.0124\n",
      "Epoch 7/100\n",
      "435/435 [==============================] - 3s 7ms/step - loss: 0.0093\n",
      "Epoch 8/100\n",
      "435/435 [==============================] - 3s 8ms/step - loss: 0.0085\n",
      "Epoch 9/100\n",
      "435/435 [==============================] - 3s 8ms/step - loss: 0.0083\n",
      "Epoch 10/100\n",
      "435/435 [==============================] - 3s 8ms/step - loss: 0.0066\n",
      "Epoch 11/100\n",
      "435/435 [==============================] - 3s 8ms/step - loss: 0.0071\n",
      "Epoch 12/100\n",
      "435/435 [==============================] - 3s 8ms/step - loss: 0.0071\n",
      "Epoch 13/100\n",
      "435/435 [==============================] - 4s 8ms/step - loss: 0.0068\n",
      "Epoch 14/100\n",
      "435/435 [==============================] - 3s 8ms/step - loss: 0.0053\n",
      "Epoch 15/100\n",
      "435/435 [==============================] - 3s 8ms/step - loss: 0.0054\n",
      "Epoch 16/100\n",
      "435/435 [==============================] - 4s 8ms/step - loss: 0.0060\n",
      "Epoch 17/100\n",
      "435/435 [==============================] - 3s 8ms/step - loss: 0.0053\n",
      "Epoch 18/100\n",
      "435/435 [==============================] - 3s 8ms/step - loss: 0.0057\n",
      "Epoch 19/100\n",
      "435/435 [==============================] - 3s 7ms/step - loss: 0.0053\n",
      "Epoch 20/100\n",
      "435/435 [==============================] - 3s 8ms/step - loss: 0.0053\n",
      "Epoch 21/100\n",
      "435/435 [==============================] - 3s 8ms/step - loss: 0.0050\n",
      "Epoch 22/100\n",
      "435/435 [==============================] - 3s 8ms/step - loss: 0.0041\n",
      "Epoch 23/100\n",
      "435/435 [==============================] - 3s 8ms/step - loss: 0.0052\n",
      "Epoch 24/100\n",
      "435/435 [==============================] - 3s 8ms/step - loss: 0.0045\n",
      "Epoch 25/100\n",
      "435/435 [==============================] - 3s 8ms/step - loss: 0.0044\n",
      "Epoch 26/100\n",
      "435/435 [==============================] - 3s 8ms/step - loss: 0.0052\n",
      "Epoch 27/100\n",
      "435/435 [==============================] - 3s 8ms/step - loss: 0.0045\n",
      "Epoch 28/100\n",
      "435/435 [==============================] - 3s 8ms/step - loss: 0.0048\n",
      "Epoch 29/100\n",
      "435/435 [==============================] - 3s 8ms/step - loss: 0.0045\n",
      "Epoch 30/100\n",
      "435/435 [==============================] - 3s 7ms/step - loss: 0.0045\n",
      "Epoch 31/100\n",
      "435/435 [==============================] - 3s 8ms/step - loss: 0.0045\n",
      "Epoch 32/100\n",
      "435/435 [==============================] - 4s 8ms/step - loss: 0.0039\n",
      "Epoch 33/100\n",
      "435/435 [==============================] - 3s 8ms/step - loss: 0.0045\n",
      "Epoch 34/100\n",
      "435/435 [==============================] - 3s 7ms/step - loss: 0.0040\n",
      "Epoch 35/100\n",
      "435/435 [==============================] - 3s 7ms/step - loss: 0.0043\n",
      "Epoch 36/100\n",
      "435/435 [==============================] - 3s 7ms/step - loss: 0.0039\n",
      "Epoch 37/100\n",
      "435/435 [==============================] - 3s 7ms/step - loss: 0.0037\n",
      "Epoch 38/100\n",
      "435/435 [==============================] - 3s 7ms/step - loss: 0.0038\n",
      "Epoch 39/100\n",
      "435/435 [==============================] - 3s 7ms/step - loss: 0.0040\n",
      "Epoch 40/100\n",
      "435/435 [==============================] - 3s 7ms/step - loss: 0.0037\n",
      "Epoch 41/100\n",
      "435/435 [==============================] - 3s 7ms/step - loss: 0.0040\n",
      "Epoch 42/100\n",
      "435/435 [==============================] - 3s 7ms/step - loss: 0.0035\n",
      "Epoch 43/100\n",
      "435/435 [==============================] - 3s 7ms/step - loss: 0.0034\n",
      "Epoch 44/100\n",
      "435/435 [==============================] - 3s 7ms/step - loss: 0.0037\n",
      "Epoch 45/100\n",
      "435/435 [==============================] - 3s 7ms/step - loss: 0.0040\n",
      "Epoch 46/100\n",
      "435/435 [==============================] - 3s 7ms/step - loss: 0.0034\n",
      "Epoch 47/100\n",
      "435/435 [==============================] - 3s 8ms/step - loss: 0.0036\n",
      "Epoch 48/100\n",
      "435/435 [==============================] - 3s 7ms/step - loss: 0.0033\n",
      "Epoch 49/100\n",
      "435/435 [==============================] - 3s 8ms/step - loss: 0.0035\n",
      "Epoch 50/100\n",
      "435/435 [==============================] - 3s 7ms/step - loss: 0.0037\n",
      "Epoch 51/100\n",
      "435/435 [==============================] - 3s 7ms/step - loss: 0.0034\n",
      "Epoch 52/100\n",
      "435/435 [==============================] - 3s 7ms/step - loss: 0.0032\n",
      "Epoch 53/100\n",
      "435/435 [==============================] - 3s 7ms/step - loss: 0.0035\n",
      "Epoch 54/100\n",
      "435/435 [==============================] - 3s 7ms/step - loss: 0.0031\n",
      "Epoch 55/100\n",
      "435/435 [==============================] - 3s 7ms/step - loss: 0.0033\n",
      "Epoch 56/100\n",
      "435/435 [==============================] - 3s 7ms/step - loss: 0.0035\n",
      "Epoch 57/100\n",
      "435/435 [==============================] - 3s 7ms/step - loss: 0.0034\n",
      "Epoch 58/100\n",
      "435/435 [==============================] - 3s 7ms/step - loss: 0.0032\n",
      "Epoch 59/100\n",
      "435/435 [==============================] - 3s 7ms/step - loss: 0.0031\n",
      "Epoch 60/100\n",
      "435/435 [==============================] - 3s 7ms/step - loss: 0.0028\n",
      "Epoch 61/100\n",
      "435/435 [==============================] - 3s 7ms/step - loss: 0.0035\n",
      "Epoch 62/100\n",
      "435/435 [==============================] - 3s 7ms/step - loss: 0.0029\n",
      "Epoch 63/100\n",
      "435/435 [==============================] - 3s 7ms/step - loss: 0.0028\n",
      "Epoch 64/100\n",
      "435/435 [==============================] - 3s 7ms/step - loss: 0.0029\n",
      "Epoch 65/100\n",
      "435/435 [==============================] - 3s 7ms/step - loss: 0.0032\n",
      "Epoch 66/100\n",
      "435/435 [==============================] - 3s 7ms/step - loss: 0.0028\n",
      "Epoch 67/100\n",
      "435/435 [==============================] - 3s 7ms/step - loss: 0.0033\n",
      "Epoch 68/100\n",
      "435/435 [==============================] - 3s 7ms/step - loss: 0.0033\n",
      "Epoch 69/100\n",
      "435/435 [==============================] - 3s 7ms/step - loss: 0.0028\n",
      "Epoch 70/100\n",
      "435/435 [==============================] - 3s 7ms/step - loss: 0.0028\n",
      "Epoch 71/100\n",
      "435/435 [==============================] - 3s 7ms/step - loss: 0.0031\n",
      "Epoch 72/100\n",
      "435/435 [==============================] - 3s 7ms/step - loss: 0.0031\n",
      "Epoch 73/100\n",
      "435/435 [==============================] - 3s 7ms/step - loss: 0.0027\n",
      "Epoch 74/100\n",
      "435/435 [==============================] - 3s 7ms/step - loss: 0.0031\n",
      "Epoch 75/100\n",
      "435/435 [==============================] - 3s 7ms/step - loss: 0.0032\n",
      "Epoch 76/100\n",
      "435/435 [==============================] - 3s 7ms/step - loss: 0.0026\n",
      "Epoch 77/100\n",
      "435/435 [==============================] - 3s 7ms/step - loss: 0.0029\n",
      "Epoch 78/100\n",
      "435/435 [==============================] - 3s 7ms/step - loss: 0.0030\n",
      "Epoch 79/100\n",
      "435/435 [==============================] - 3s 7ms/step - loss: 0.0029\n",
      "Epoch 80/100\n",
      "435/435 [==============================] - 3s 7ms/step - loss: 0.0031\n",
      "Epoch 81/100\n",
      "435/435 [==============================] - 3s 7ms/step - loss: 0.0029\n",
      "Epoch 82/100\n",
      "435/435 [==============================] - 3s 7ms/step - loss: 0.0026\n",
      "Epoch 83/100\n",
      "435/435 [==============================] - 3s 7ms/step - loss: 0.0023\n",
      "Epoch 84/100\n",
      "435/435 [==============================] - 3s 7ms/step - loss: 0.0030\n",
      "Epoch 85/100\n",
      "435/435 [==============================] - 3s 7ms/step - loss: 0.0027\n",
      "Epoch 86/100\n",
      "435/435 [==============================] - 3s 7ms/step - loss: 0.0029\n",
      "Epoch 87/100\n",
      "435/435 [==============================] - 3s 7ms/step - loss: 0.0026\n",
      "Epoch 88/100\n",
      "435/435 [==============================] - 3s 7ms/step - loss: 0.0026\n",
      "Epoch 89/100\n",
      "435/435 [==============================] - 3s 7ms/step - loss: 0.0024\n",
      "Epoch 90/100\n",
      "435/435 [==============================] - 3s 7ms/step - loss: 0.0026\n",
      "Epoch 91/100\n",
      "435/435 [==============================] - 3s 7ms/step - loss: 0.0027\n",
      "Epoch 92/100\n",
      "435/435 [==============================] - 3s 7ms/step - loss: 0.0028\n",
      "Epoch 93/100\n",
      "435/435 [==============================] - 3s 7ms/step - loss: 0.0027\n",
      "Epoch 94/100\n",
      "435/435 [==============================] - 3s 7ms/step - loss: 0.0026\n",
      "Epoch 95/100\n",
      "435/435 [==============================] - 3s 7ms/step - loss: 0.0028\n",
      "Epoch 96/100\n",
      "435/435 [==============================] - 3s 7ms/step - loss: 0.0029\n",
      "Epoch 97/100\n",
      "435/435 [==============================] - 3s 7ms/step - loss: 0.0024\n",
      "Epoch 98/100\n",
      "435/435 [==============================] - 3s 7ms/step - loss: 0.0026\n",
      "Epoch 99/100\n",
      "435/435 [==============================] - 3s 7ms/step - loss: 0.0033\n",
      "Epoch 100/100\n",
      "435/435 [==============================] - 3s 7ms/step - loss: 0.0028\n",
      "14/14 [==============================] - 1s 3ms/step\n",
      "4/4 [==============================] - 0s 4ms/step\n"
     ]
    }
   ],
   "source": [
    "\n",
    "# Build the LSTM model with dropout\n",
    "model = Sequential()\n",
    "model.add(LSTM(50, return_sequences=True, input_shape=(look_back, 6)))\n",
    "model.add(Dropout(0.2))\n",
    "model.add(LSTM(50, return_sequences=False))\n",
    "model.add(Dropout(0.2))\n",
    "model.add(Dense(25))\n",
    "model.add(Dense(1))\n",
    "model.compile(optimizer='adam', loss='mean_squared_error')\n",
    "\n",
    "# Train the model with more epochs\n",
    "model.fit(X_train, y_train, batch_size=1, epochs=100)\n",
    "\n",
    "# Make predictions\n",
    "train_predict = model.predict(X_train)\n",
    "test_predict = model.predict(X_test)\n"
   ]
  },
  {
   "cell_type": "code",
   "execution_count": 70,
   "metadata": {},
   "outputs": [],
   "source": [
    "y_test_reshaped = y_test.reshape(125)\n",
    "test_predict_reshaped = test_predict.reshape(125)"
   ]
  },
  {
   "cell_type": "code",
   "execution_count": 66,
   "metadata": {},
   "outputs": [],
   "source": [
    "# Inverse Transform\n",
    "\n",
    "# y_test_reshaped = y_test_reshaped * df_test[\"Vehicles\"].max()\n",
    "# test_predict_reshaped = test_predict_reshaped * df_test[\"Vehicles\"].max()"
   ]
  },
  {
   "cell_type": "code",
   "execution_count": 67,
   "metadata": {},
   "outputs": [
    {
     "data": {
      "text/plain": [
       "array([ 6.25751073, 40.59560086, 53.65815451, 50.68583691, 45.21051502,\n",
       "       43.64613734,  6.72682403,  5.31888412, 41.847103  , 45.91448498,\n",
       "       43.41148069, 52.64130901, 40.04806867,  4.84957082,  2.11190987,\n",
       "       32.06974249, 55.77006438, 51.2333691 , 49.7472103 , 47.00954936,\n",
       "       15.2526824 , 11.18530043, 60.30675966, 61.40182403, 61.87113734,\n",
       "       54.675     , 50.06008584, 19.39828326,  7.82188841, 53.03240343,\n",
       "       54.28390558, 45.60160944, 54.83143777, 38.87478541, 12.827897  ,\n",
       "       14.70515021, 52.17199571, 59.36813305, 61.48004292, 61.24538627,\n",
       "       42.78572961, 18.06856223, 19.47650215, 61.63648069, 61.79291845,\n",
       "       53.42349785, 46.07092275, 25.34291845,  4.22381974,  2.42478541,\n",
       "       43.48969957, 53.03240343, 58.58594421, 53.11062232, 45.75804721,\n",
       "       11.02886266, 14.70515021, 56.1611588 , 58.27306867, 55.45718884,\n",
       "       52.48487124, 34.4945279 ,  5.70997854,  1.4861588 , 25.42113734,\n",
       "       58.03841202, 56.70869099, 58.27306867, 48.10461373,  5.94463519,\n",
       "        3.4416309 , 47.00954936, 61.5582618 , 60.54141631, 67.65933476,\n",
       "       63.43551502, 13.68830472,  8.68229614, 62.96620172, 61.5582618 ,\n",
       "       60.54141631, 68.67618026, 54.90965665, 12.59324034, 10.24667382,\n",
       "       84.94570815, 79.93969957, 73.68218884, 78.53175966, 62.96620172,\n",
       "       23.77854077, 13.76652361, 71.02274678, 69.77124464, 68.20686695,\n",
       "       76.81094421, 63.0444206 , 20.33690987,  7.97832618, 58.82060086,\n",
       "       90.26459227, 81.73873391, 76.73272532, 63.43551502, 15.72199571,\n",
       "       14.23583691, 75.8723176 , 82.36448498, 76.3416309 , 73.13465665,\n",
       "       64.76523605, 15.09624464,  4.22381974, 68.51974249, 79.93969957,\n",
       "       76.18519313, 78.76641631, 58.42950644, 17.20815451, 12.67145923,\n",
       "       58.82060086, 91.125     , 82.7555794 , 83.2248927 , 67.34645923])"
      ]
     },
     "execution_count": 67,
     "metadata": {},
     "output_type": "execute_result"
    }
   ],
   "source": [
    "y_test_reshaped"
   ]
  },
  {
   "cell_type": "code",
   "execution_count": 71,
   "metadata": {},
   "outputs": [
    {
     "name": "stdout",
     "output_type": "stream",
     "text": [
      "Test MSE with dropout: 0.07849173318337026\n",
      "Test MAE with dropout: 0.23631036898225163\n"
     ]
    }
   ],
   "source": [
    "\n",
    "\n",
    "# Performance evaluation\n",
    "test_mse = mean_squared_error(y_test_reshaped, test_predict_reshaped)\n",
    "test_mae = mean_absolute_error(y_test_reshaped, test_predict_reshaped)\n",
    "\n",
    "print(f'Test MSE with dropout: {test_mse}')\n",
    "print(f'Test MAE with dropout: {test_mae}')"
   ]
  },
  {
   "cell_type": "code",
   "execution_count": null,
   "metadata": {},
   "outputs": [],
   "source": []
  },
  {
   "cell_type": "code",
   "execution_count": 72,
   "metadata": {},
   "outputs": [
    {
     "data": {
      "image/png": "[encoded data removed]",
      "text/plain": [
       "<Figure size 1000x600 with 1 Axes>"
      ]
     },
     "metadata": {},
     "output_type": "display_data"
    }
   ],
   "source": [
    "# Plot actual vs forecast\n",
    "plt.figure(figsize=(10, 6))\n",
    "plt.plot(df_test.index[24:], y_test_reshaped, label=\"Actual Data\")\n",
    "plt.plot(df_test.index[24:], test_predict_reshaped, label=\"Forecast\", color=\"orange\")\n",
    "plt.legend()\n",
    "plt.title(\"Actual vs Forecast\")\n",
    "plt.show()"
   ]
  },
  {
   "cell_type": "markdown",
   "metadata": {},
   "source": [
    "We are getting better results with ARIMA and SARIMA but this is basic model with LSTM it can be further improved"
   ]
  },
  {
   "cell_type": "code",
   "execution_count": null,
   "metadata": {},
   "outputs": [],
   "source": []
  }
 ],
 "metadata": {
  "kernelspec": {
   "display_name": "Python 3",
   "language": "python",
   "name": "python3"
  },
  "language_info": {
   "codemirror_mode": {
    "name": "ipython",
    "version": 3
   },
   "file_extension": ".py",
   "mimetype": "text/x-python",
   "name": "python",
   "nbconvert_exporter": "python",
   "pygments_lexer": "ipython3",
   "version": "3.11.9"
  }
 },
 "nbformat": 4,
 "nbformat_minor": 2
}
